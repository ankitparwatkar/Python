{
 "cells": [
  {
   "cell_type": "code",
   "execution_count": 1,
   "id": "be260a56-8f85-4dca-8ddd-a82646c7fad7",
   "metadata": {},
   "outputs": [],
   "source": [
    "import numpy as np"
   ]
  },
  {
   "cell_type": "code",
   "execution_count": 2,
   "id": "9f25ce3f-8c59-4584-a2a3-3cd7cfdfe834",
   "metadata": {},
   "outputs": [
    {
     "data": {
      "text/plain": [
       "array([[0., 1., 2.],\n",
       "       [3., 4., 5.],\n",
       "       [6., 7., 8.]])"
      ]
     },
     "execution_count": 2,
     "metadata": {},
     "output_type": "execute_result"
    }
   ],
   "source": [
    "arr=np.arange(9.0).reshape(3, 3)\n",
    "(arr)"
   ]
  },
  {
   "cell_type": "code",
   "execution_count": 4,
   "id": "331ed85b-4485-461f-a2dd-e099c7ecf833",
   "metadata": {},
   "outputs": [
    {
     "data": {
      "text/plain": [
       "array([[ 0.,  1.,  2.],\n",
       "       [ 3.,  4.,  5.],\n",
       "       [ 6.,  7.,  8.],\n",
       "       [ 9., 10., 11.]])"
      ]
     },
     "execution_count": 4,
     "metadata": {},
     "output_type": "execute_result"
    }
   ],
   "source": [
    "arr1=np.arange(12.0).reshape(4, 3)\n",
    "(arr)"
   ]
  },
  {
   "cell_type": "code",
   "execution_count": 5,
   "id": "acfefe09-ee04-407a-ba35-6c65e65a76e7",
   "metadata": {},
   "outputs": [
    {
     "data": {
      "text/plain": [
       "array([[ 0.,  2.,  4.],\n",
       "       [ 6.,  8., 10.],\n",
       "       [12., 14., 16.],\n",
       "       [18., 20., 22.]])"
      ]
     },
     "execution_count": 5,
     "metadata": {},
     "output_type": "execute_result"
    }
   ],
   "source": [
    "(arr+arr1)"
   ]
  },
  {
   "cell_type": "code",
   "execution_count": 6,
   "id": "957da335-42d1-452e-9678-8d2604eea941",
   "metadata": {},
   "outputs": [
    {
     "data": {
      "text/plain": [
       "array([[ 0.,  1.,  2.],\n",
       "       [ 3.,  4.,  5.],\n",
       "       [ 6.,  7.,  8.],\n",
       "       [ 9., 10., 11.]])"
      ]
     },
     "execution_count": 6,
     "metadata": {},
     "output_type": "execute_result"
    }
   ],
   "source": [
    "arr3=np.sort(arr/2==0)\n",
    "(arr)"
   ]
  },
  {
   "cell_type": "code",
   "execution_count": 8,
   "id": "d5a72355-067c-4ea0-98d4-dbe3231843ac",
   "metadata": {},
   "outputs": [],
   "source": [
    "import pandas as pd"
   ]
  },
  {
   "cell_type": "code",
   "execution_count": 11,
   "id": "0c5f3f56-3abc-469f-a93c-33833f4063e2",
   "metadata": {},
   "outputs": [
    {
     "data": {
      "text/html": [
       "<div>\n",
       "<style scoped>\n",
       "    .dataframe tbody tr th:only-of-type {\n",
       "        vertical-align: middle;\n",
       "    }\n",
       "\n",
       "    .dataframe tbody tr th {\n",
       "        vertical-align: top;\n",
       "    }\n",
       "\n",
       "    .dataframe thead th {\n",
       "        text-align: right;\n",
       "    }\n",
       "</style>\n",
       "<table border=\"1\" class=\"dataframe\">\n",
       "  <thead>\n",
       "    <tr style=\"text-align: right;\">\n",
       "      <th></th>\n",
       "      <th>CARS</th>\n",
       "      <th>PASSINGS</th>\n",
       "    </tr>\n",
       "  </thead>\n",
       "  <tbody>\n",
       "    <tr>\n",
       "      <th>0</th>\n",
       "      <td>BMW</td>\n",
       "      <td>3</td>\n",
       "    </tr>\n",
       "    <tr>\n",
       "      <th>1</th>\n",
       "      <td>VOLVO</td>\n",
       "      <td>7</td>\n",
       "    </tr>\n",
       "    <tr>\n",
       "      <th>2</th>\n",
       "      <td>FORD</td>\n",
       "      <td>2</td>\n",
       "    </tr>\n",
       "  </tbody>\n",
       "</table>\n",
       "</div>"
      ],
      "text/plain": [
       "    CARS  PASSINGS\n",
       "0    BMW         3\n",
       "1  VOLVO         7\n",
       "2   FORD         2"
      ]
     },
     "execution_count": 11,
     "metadata": {},
     "output_type": "execute_result"
    }
   ],
   "source": [
    "mydataset={'CARS' :[\"BMW\", \"VOLVO\", \"FORD\"], 'PASSINGS':[3, 7, 2]}\n",
    "myvar=pd.DataFrame(mydataset)\n",
    "(myvar)I"
   ]
  },
  {
   "cell_type": "code",
   "execution_count": 12,
   "id": "cea358bc-8325-4922-b45e-6a9fbd47be50",
   "metadata": {},
   "outputs": [
    {
     "name": "stdout",
     "output_type": "stream",
     "text": [
      "2.1.4\n"
     ]
    }
   ],
   "source": [
    "print(pd.__version__)"
   ]
  },
  {
   "cell_type": "code",
   "execution_count": 13,
   "id": "bdacf3de-247f-46b1-be49-3c5a4f279ec0",
   "metadata": {},
   "outputs": [
    {
     "data": {
      "text/plain": [
       "[1, 7, 2]"
      ]
     },
     "execution_count": 13,
     "metadata": {},
     "output_type": "execute_result"
    }
   ],
   "source": [
    "a=[1, 7, 2]\n",
    "myvar=pd.Series(a)\n",
    "(a)"
   ]
  },
  {
   "cell_type": "code",
   "execution_count": 14,
   "id": "099b490c-daa7-4d3a-822a-2647ec14d657",
   "metadata": {},
   "outputs": [
    {
     "data": {
      "text/plain": [
       "1"
      ]
     },
     "execution_count": 14,
     "metadata": {},
     "output_type": "execute_result"
    }
   ],
   "source": [
    "(myvar[0])"
   ]
  },
  {
   "cell_type": "code",
   "execution_count": 15,
   "id": "256831c3-23cd-46fc-b83f-c9dae09c3d06",
   "metadata": {},
   "outputs": [
    {
     "data": {
      "text/plain": [
       "7"
      ]
     },
     "execution_count": 15,
     "metadata": {},
     "output_type": "execute_result"
    }
   ],
   "source": [
    "(myvar[1])"
   ]
  },
  {
   "cell_type": "code",
   "execution_count": 17,
   "id": "40d18789-6cc2-474c-a0de-7dfa6ea0c50c",
   "metadata": {},
   "outputs": [
    {
     "data": {
      "text/plain": [
       "A    1\n",
       "B    7\n",
       "C    2\n",
       "dtype: int64"
      ]
     },
     "execution_count": 17,
     "metadata": {},
     "output_type": "execute_result"
    }
   ],
   "source": [
    "a=[1, 7, 2]\n",
    "myvar=pd.Series(a, index=[\"A\", \"B\", \"C\"])\n",
    "(myvar)"
   ]
  },
  {
   "cell_type": "code",
   "execution_count": 19,
   "id": "573e5fc2-226a-4c96-9b0f-abddf048863f",
   "metadata": {},
   "outputs": [
    {
     "data": {
      "text/plain": [
       "7"
      ]
     },
     "execution_count": 19,
     "metadata": {},
     "output_type": "execute_result"
    }
   ],
   "source": [
    "(myvar[\"B\"])"
   ]
  },
  {
   "cell_type": "code",
   "execution_count": 20,
   "id": "e6559cf7-e31d-40ee-a9eb-a51923f27fc0",
   "metadata": {},
   "outputs": [
    {
     "data": {
      "text/plain": [
       "day1    420\n",
       "day2    360\n",
       "day3    240\n",
       "dtype: int64"
      ]
     },
     "execution_count": 20,
     "metadata": {},
     "output_type": "execute_result"
    }
   ],
   "source": [
    "calories={\"day1\":420, \"day2\":360, \"day3\":240}\n",
    "myvar=pd.Series(calories)\n",
    "(myvar)"
   ]
  },
  {
   "cell_type": "code",
   "execution_count": 5,
   "id": "af58ec97-25c5-43be-8e65-ee16c05a79a0",
   "metadata": {},
   "outputs": [],
   "source": [
    "import pandas as pd"
   ]
  },
  {
   "cell_type": "code",
   "execution_count": 3,
   "id": "21a0a74c-f190-470e-84a8-b0fe31cd3d60",
   "metadata": {},
   "outputs": [
    {
     "data": {
      "text/plain": [
       "day1    420\n",
       "day3    240\n",
       "dtype: int64"
      ]
     },
     "execution_count": 3,
     "metadata": {},
     "output_type": "execute_result"
    }
   ],
   "source": [
    "calories={\"day1\":420, \"day2\":360, \"day3\":240}\n",
    "myvar=pd.Series(calories, index=[\"day1\", \"day3\"])\n",
    "(myvar)"
   ]
  },
  {
   "cell_type": "code",
   "execution_count": 4,
   "id": "7a23e6ff-42d1-4aaa-bc23-f64a68e4303b",
   "metadata": {},
   "outputs": [
    {
     "data": {
      "text/plain": [
       "0    2\n",
       "1    4\n",
       "2    6\n",
       "3    8\n",
       "dtype: int64"
      ]
     },
     "execution_count": 4,
     "metadata": {},
     "output_type": "execute_result"
    }
   ],
   "source": [
    "first_series=pd.Series([2, 4, 6, 8])\n",
    "(first_series)"
   ]
  },
  {
   "cell_type": "code",
   "execution_count": 6,
   "id": "d247feec-e82d-4f91-8a4c-1d7e629bb1d0",
   "metadata": {},
   "outputs": [
    {
     "data": {
      "text/plain": [
       "a    2\n",
       "b    3\n",
       "d    5\n",
       "e    6\n",
       "f    8\n",
       "Name: Number, dtype: int64"
      ]
     },
     "execution_count": 6,
     "metadata": {},
     "output_type": "execute_result"
    }
   ],
   "source": [
    "number_series=pd.Series([2, 3, 5, 6, 8], index=['a', 'b', 'd', 'e', 'f'], name='Number')\n",
    "(number_series)"
   ]
  },
  {
   "cell_type": "code",
   "execution_count": 1,
   "id": "9aad6cf8-f06c-41a6-b514-a5f42dfbf788",
   "metadata": {},
   "outputs": [],
   "source": [
    "import pandas as pd"
   ]
  },
  {
   "cell_type": "code",
   "execution_count": 2,
   "id": "f893b942-0f4f-44e4-85c6-642c52c536e6",
   "metadata": {},
   "outputs": [
    {
     "data": {
      "text/plain": [
       "a    1\n",
       "b    2\n",
       "c    3\n",
       "d    4\n",
       "e    5\n",
       "Name: Table, dtype: int64"
      ]
     },
     "execution_count": 2,
     "metadata": {},
     "output_type": "execute_result"
    }
   ],
   "source": [
    "second_series=pd.Series([1, 2, 3, 4, 5], index=['a', 'b', 'c', 'd', 'e'], name='Table')\n",
    "(second_series)"
   ]
  },
  {
   "cell_type": "code",
   "execution_count": 5,
   "id": "8222e73f-f593-4ec0-b1cc-764dce2bb8e7",
   "metadata": {},
   "outputs": [
    {
     "data": {
      "text/plain": [
       "a    1\n",
       "c    3\n",
       "Name: Table, dtype: int64"
      ]
     },
     "execution_count": 5,
     "metadata": {},
     "output_type": "execute_result"
    }
   ],
   "source": [
    "(second_series[0:4:2])"
   ]
  },
  {
   "cell_type": "code",
   "execution_count": 6,
   "id": "f41a2812-f0b7-4ad5-9141-e839a470de21",
   "metadata": {},
   "outputs": [
    {
     "data": {
      "text/plain": [
       "Series([], Name: Table, dtype: int64)"
      ]
     },
     "execution_count": 6,
     "metadata": {},
     "output_type": "execute_result"
    }
   ],
   "source": [
    "(second_series[0:0:2])"
   ]
  },
  {
   "cell_type": "code",
   "execution_count": 7,
   "id": "aa7aad81-d816-4590-86bb-c29ec8ad45af",
   "metadata": {},
   "outputs": [
    {
     "data": {
      "text/plain": [
       "b    2\n",
       "c    3\n",
       "d    4\n",
       "Name: Table, dtype: int64"
      ]
     },
     "execution_count": 7,
     "metadata": {},
     "output_type": "execute_result"
    }
   ],
   "source": [
    "(second_series[1:4:1])"
   ]
  },
  {
   "cell_type": "code",
   "execution_count": 11,
   "id": "57de606e-8822-4290-8777-c5aa10f99afd",
   "metadata": {},
   "outputs": [
    {
     "data": {
      "text/plain": [
       "a    1\n",
       "c    3\n",
       "e    5\n",
       "Name: Table, dtype: int64"
      ]
     },
     "execution_count": 11,
     "metadata": {},
     "output_type": "execute_result"
    }
   ],
   "source": [
    "(second_series[::2])"
   ]
  },
  {
   "cell_type": "code",
   "execution_count": 12,
   "id": "4815f2c9-a33f-40f2-88d5-f9438a1076f3",
   "metadata": {},
   "outputs": [
    {
     "data": {
      "text/plain": [
       "b    2\n",
       "c    3\n",
       "d    4\n",
       "e    5\n",
       "Name: Table, dtype: int64"
      ]
     },
     "execution_count": 12,
     "metadata": {},
     "output_type": "execute_result"
    }
   ],
   "source": [
    "(second_series[1::])"
   ]
  },
  {
   "cell_type": "code",
   "execution_count": 3,
   "id": "3c45d833-7c1c-4f58-9a20-7b18e43fd56e",
   "metadata": {},
   "outputs": [],
   "source": [
    "import pandas as pd"
   ]
  },
  {
   "cell_type": "code",
   "execution_count": 4,
   "id": "6970a97c-946a-4341-970a-f2cdeee6409a",
   "metadata": {},
   "outputs": [
    {
     "data": {
      "text/html": [
       "<div>\n",
       "<style scoped>\n",
       "    .dataframe tbody tr th:only-of-type {\n",
       "        vertical-align: middle;\n",
       "    }\n",
       "\n",
       "    .dataframe tbody tr th {\n",
       "        vertical-align: top;\n",
       "    }\n",
       "\n",
       "    .dataframe thead th {\n",
       "        text-align: right;\n",
       "    }\n",
       "</style>\n",
       "<table border=\"1\" class=\"dataframe\">\n",
       "  <thead>\n",
       "    <tr style=\"text-align: right;\">\n",
       "      <th></th>\n",
       "      <th>calories</th>\n",
       "      <th>duration</th>\n",
       "    </tr>\n",
       "  </thead>\n",
       "  <tbody>\n",
       "    <tr>\n",
       "      <th>0</th>\n",
       "      <td>420</td>\n",
       "      <td>50</td>\n",
       "    </tr>\n",
       "    <tr>\n",
       "      <th>1</th>\n",
       "      <td>380</td>\n",
       "      <td>40</td>\n",
       "    </tr>\n",
       "    <tr>\n",
       "      <th>2</th>\n",
       "      <td>390</td>\n",
       "      <td>45</td>\n",
       "    </tr>\n",
       "  </tbody>\n",
       "</table>\n",
       "</div>"
      ],
      "text/plain": [
       "   calories  duration\n",
       "0       420        50\n",
       "1       380        40\n",
       "2       390        45"
      ]
     },
     "execution_count": 4,
     "metadata": {},
     "output_type": "execute_result"
    }
   ],
   "source": [
    "data = {\n",
    "  \"calories\": [420, 380, 390],\n",
    "  \"duration\": [50, 40, 45]\n",
    "}\n",
    "\n",
    "myvar = pd.DataFrame(data)\n",
    "\n",
    "(myvar)"
   ]
  },
  {
   "cell_type": "code",
   "execution_count": 6,
   "id": "864a487d-447c-4d36-9cc7-d953daffe947",
   "metadata": {},
   "outputs": [
    {
     "data": {
      "text/html": [
       "<div>\n",
       "<style scoped>\n",
       "    .dataframe tbody tr th:only-of-type {\n",
       "        vertical-align: middle;\n",
       "    }\n",
       "\n",
       "    .dataframe tbody tr th {\n",
       "        vertical-align: top;\n",
       "    }\n",
       "\n",
       "    .dataframe thead th {\n",
       "        text-align: right;\n",
       "    }\n",
       "</style>\n",
       "<table border=\"1\" class=\"dataframe\">\n",
       "  <thead>\n",
       "    <tr style=\"text-align: right;\">\n",
       "      <th></th>\n",
       "      <th>Students</th>\n",
       "      <th>Marks</th>\n",
       "    </tr>\n",
       "  </thead>\n",
       "  <tbody>\n",
       "    <tr>\n",
       "      <th>0</th>\n",
       "      <td>Ankit</td>\n",
       "      <td>99</td>\n",
       "    </tr>\n",
       "    <tr>\n",
       "      <th>1</th>\n",
       "      <td>Bhavesh</td>\n",
       "      <td>85</td>\n",
       "    </tr>\n",
       "    <tr>\n",
       "      <th>2</th>\n",
       "      <td>Chetan</td>\n",
       "      <td>71</td>\n",
       "    </tr>\n",
       "  </tbody>\n",
       "</table>\n",
       "</div>"
      ],
      "text/plain": [
       "  Students  Marks\n",
       "0    Ankit     99\n",
       "1  Bhavesh     85\n",
       "2   Chetan     71"
      ]
     },
     "execution_count": 6,
     "metadata": {},
     "output_type": "execute_result"
    }
   ],
   "source": [
    "data = {\n",
    "    \"Students\":[\"Ankit\", \"Bhavesh\", \"Chetan\"],\n",
    "    \"Marks\":[99, 85, 71]\n",
    "}\n",
    "data=pd.DataFrame(data)\n",
    "(data)"
   ]
  },
  {
   "cell_type": "code",
   "execution_count": 9,
   "id": "3ffc4b07-e504-4408-a25a-ab9113c9bcf4",
   "metadata": {},
   "outputs": [
    {
     "data": {
      "text/plain": [
       "Students    Bhavesh\n",
       "Marks            85\n",
       "Name: 1, dtype: object"
      ]
     },
     "execution_count": 9,
     "metadata": {},
     "output_type": "execute_result"
    }
   ],
   "source": [
    "(data.loc[1])"
   ]
  },
  {
   "cell_type": "code",
   "execution_count": 10,
   "id": "a3082178-6621-42b6-a803-5776db81119b",
   "metadata": {},
   "outputs": [
    {
     "data": {
      "text/plain": [
       "Students    Ankit\n",
       "Marks          99\n",
       "Name: 0, dtype: object"
      ]
     },
     "execution_count": 10,
     "metadata": {},
     "output_type": "execute_result"
    }
   ],
   "source": [
    "(data.loc[0])"
   ]
  },
  {
   "cell_type": "code",
   "execution_count": 12,
   "id": "731045ca-deb3-4b8d-bc85-916ce004c5f9",
   "metadata": {},
   "outputs": [
    {
     "data": {
      "text/html": [
       "<div>\n",
       "<style scoped>\n",
       "    .dataframe tbody tr th:only-of-type {\n",
       "        vertical-align: middle;\n",
       "    }\n",
       "\n",
       "    .dataframe tbody tr th {\n",
       "        vertical-align: top;\n",
       "    }\n",
       "\n",
       "    .dataframe thead th {\n",
       "        text-align: right;\n",
       "    }\n",
       "</style>\n",
       "<table border=\"1\" class=\"dataframe\">\n",
       "  <thead>\n",
       "    <tr style=\"text-align: right;\">\n",
       "      <th></th>\n",
       "      <th>Students</th>\n",
       "      <th>Marks</th>\n",
       "    </tr>\n",
       "  </thead>\n",
       "  <tbody>\n",
       "    <tr>\n",
       "      <th>1</th>\n",
       "      <td>Bhavesh</td>\n",
       "      <td>85</td>\n",
       "    </tr>\n",
       "    <tr>\n",
       "      <th>0</th>\n",
       "      <td>Ankit</td>\n",
       "      <td>99</td>\n",
       "    </tr>\n",
       "  </tbody>\n",
       "</table>\n",
       "</div>"
      ],
      "text/plain": [
       "  Students  Marks\n",
       "1  Bhavesh     85\n",
       "0    Ankit     99"
      ]
     },
     "execution_count": 12,
     "metadata": {},
     "output_type": "execute_result"
    }
   ],
   "source": [
    "(data.loc[[1, 0]])"
   ]
  },
  {
   "cell_type": "code",
   "execution_count": 15,
   "id": "20b6e46b-0824-47de-af75-2f330165a8e0",
   "metadata": {},
   "outputs": [
    {
     "data": {
      "text/html": [
       "<div>\n",
       "<style scoped>\n",
       "    .dataframe tbody tr th:only-of-type {\n",
       "        vertical-align: middle;\n",
       "    }\n",
       "\n",
       "    .dataframe tbody tr th {\n",
       "        vertical-align: top;\n",
       "    }\n",
       "\n",
       "    .dataframe thead th {\n",
       "        text-align: right;\n",
       "    }\n",
       "</style>\n",
       "<table border=\"1\" class=\"dataframe\">\n",
       "  <thead>\n",
       "    <tr style=\"text-align: right;\">\n",
       "      <th></th>\n",
       "      <th>Students</th>\n",
       "      <th>Marks</th>\n",
       "    </tr>\n",
       "  </thead>\n",
       "  <tbody>\n",
       "    <tr>\n",
       "      <th>1</th>\n",
       "      <td>Ankit</td>\n",
       "      <td>99</td>\n",
       "    </tr>\n",
       "    <tr>\n",
       "      <th>2</th>\n",
       "      <td>Bhavesh</td>\n",
       "      <td>85</td>\n",
       "    </tr>\n",
       "    <tr>\n",
       "      <th>3</th>\n",
       "      <td>Chetan</td>\n",
       "      <td>71</td>\n",
       "    </tr>\n",
       "  </tbody>\n",
       "</table>\n",
       "</div>"
      ],
      "text/plain": [
       "  Students  Marks\n",
       "1    Ankit     99\n",
       "2  Bhavesh     85\n",
       "3   Chetan     71"
      ]
     },
     "execution_count": 15,
     "metadata": {},
     "output_type": "execute_result"
    }
   ],
   "source": [
    "data = {\n",
    "    \"Students\":[\"Ankit\", \"Bhavesh\", \"Chetan\"],\n",
    "    \"Marks\":[99, 85, 71]\n",
    "}\n",
    "#data=pd.DataFrame(data)\n",
    "data = pd.DataFrame(data, index = [\"1\", \"2\", \"3\"])\n",
    "(data)"
   ]
  },
  {
   "cell_type": "code",
   "execution_count": 19,
   "id": "8e94f158-023c-4681-aae2-341bcf6e09dc",
   "metadata": {},
   "outputs": [
    {
     "data": {
      "text/plain": [
       "Students    Ankit\n",
       "Marks          99\n",
       "Name: 1, dtype: object"
      ]
     },
     "execution_count": 19,
     "metadata": {},
     "output_type": "execute_result"
    }
   ],
   "source": [
    "(data.loc[\"1\"])"
   ]
  },
  {
   "cell_type": "code",
   "execution_count": 20,
   "id": "6a6ef4bf-7b49-496d-a8bf-b49760c22cba",
   "metadata": {},
   "outputs": [
    {
     "data": {
      "text/plain": [
       "Students    Chetan\n",
       "Marks           71\n",
       "Name: 3, dtype: object"
      ]
     },
     "execution_count": 20,
     "metadata": {},
     "output_type": "execute_result"
    }
   ],
   "source": [
    "(data.loc[\"3\"])"
   ]
  },
  {
   "cell_type": "code",
   "execution_count": 2,
   "id": "78a5e92d-1919-4d04-8c13-83641c657a60",
   "metadata": {},
   "outputs": [
    {
     "data": {
      "text/plain": [
       "10    50\n",
       "11    55\n",
       "12    60\n",
       "13    65\n",
       "14    70\n",
       "dtype: int32"
      ]
     },
     "execution_count": 2,
     "metadata": {},
     "output_type": "execute_result"
    }
   ],
   "source": [
    "import pandas as pd\n",
    "import numpy as np\n",
    "ser=np.arange(10, 15)\n",
    "serobj=pd.Series(index=ser, data=ser*5)\n",
    "(serobj)"
   ]
  },
  {
   "cell_type": "code",
   "execution_count": 3,
   "id": "478297d5-6232-467c-a96d-252f878b5720",
   "metadata": {},
   "outputs": [
    {
     "data": {
      "text/plain": [
       "0     2\n",
       "1     4\n",
       "2     6\n",
       "3     8\n",
       "0    10\n",
       "1    12\n",
       "2    14\n",
       "3    16\n",
       "dtype: int64"
      ]
     },
     "execution_count": 3,
     "metadata": {},
     "output_type": "execute_result"
    }
   ],
   "source": [
    "series_1=pd.Series([2, 4, 6, 8])\n",
    "series_2=pd.Series([10, 12, 14, 16])\n",
    "series_1=pd.concat([series_1, series_2], axis=0)\n",
    "(series_1)"
   ]
  },
  {
   "cell_type": "code",
   "execution_count": 4,
   "id": "ecc5688b-a1a1-4747-8bdd-78f3d4d2076f",
   "metadata": {},
   "outputs": [
    {
     "data": {
      "text/html": [
       "<div>\n",
       "<style scoped>\n",
       "    .dataframe tbody tr th:only-of-type {\n",
       "        vertical-align: middle;\n",
       "    }\n",
       "\n",
       "    .dataframe tbody tr th {\n",
       "        vertical-align: top;\n",
       "    }\n",
       "\n",
       "    .dataframe thead th {\n",
       "        text-align: right;\n",
       "    }\n",
       "</style>\n",
       "<table border=\"1\" class=\"dataframe\">\n",
       "  <thead>\n",
       "    <tr style=\"text-align: right;\">\n",
       "      <th></th>\n",
       "      <th>0</th>\n",
       "      <th>1</th>\n",
       "    </tr>\n",
       "  </thead>\n",
       "  <tbody>\n",
       "    <tr>\n",
       "      <th>0</th>\n",
       "      <td>2</td>\n",
       "      <td>10</td>\n",
       "    </tr>\n",
       "    <tr>\n",
       "      <th>1</th>\n",
       "      <td>4</td>\n",
       "      <td>12</td>\n",
       "    </tr>\n",
       "    <tr>\n",
       "      <th>2</th>\n",
       "      <td>6</td>\n",
       "      <td>14</td>\n",
       "    </tr>\n",
       "    <tr>\n",
       "      <th>3</th>\n",
       "      <td>8</td>\n",
       "      <td>16</td>\n",
       "    </tr>\n",
       "  </tbody>\n",
       "</table>\n",
       "</div>"
      ],
      "text/plain": [
       "   0   1\n",
       "0  2  10\n",
       "1  4  12\n",
       "2  6  14\n",
       "3  8  16"
      ]
     },
     "execution_count": 4,
     "metadata": {},
     "output_type": "execute_result"
    }
   ],
   "source": [
    "series_1=pd.Series([2, 4, 6, 8])\n",
    "series_2=pd.Series([10, 12, 14, 16])\n",
    "series_1=pd.concat([series_1, series_2], axis=1)\n",
    "(series_1)"
   ]
  },
  {
   "cell_type": "code",
   "execution_count": 41,
   "id": "56a86bb0-c057-43fd-990f-bcffb3035bb2",
   "metadata": {},
   "outputs": [
    {
     "data": {
      "text/plain": [
       "[12, 9, 8]"
      ]
     },
     "execution_count": 41,
     "metadata": {},
     "output_type": "execute_result"
    }
   ],
   "source": [
    "a=[1, 7, 2, 3, 4, 5, 6, 8, 9, 12]\n",
    "myvar=pd.Series(a)\n",
    "(a[-1:-4:-1])"
   ]
  },
  {
   "cell_type": "code",
   "execution_count": 43,
   "id": "3b4cece5-ce1d-47c4-9e5b-578c3faa74ef",
   "metadata": {},
   "outputs": [
    {
     "data": {
      "text/plain": [
       "x    0\n",
       "y    1\n",
       "z    2\n",
       "dtype: int64"
      ]
     },
     "execution_count": 43,
     "metadata": {},
     "output_type": "execute_result"
    }
   ],
   "source": [
    "info={\"x\":0,\"y\":1, \"z\":2}\n",
    "info=pd.Series(info)\n",
    "(info)"
   ]
  },
  {
   "cell_type": "code",
   "execution_count": 2,
   "id": "50833628-561a-44f2-8176-6b179cf1e686",
   "metadata": {},
   "outputs": [
    {
     "data": {
      "text/plain": [
       "b    1.0\n",
       "c    2.0\n",
       "d    NaN\n",
       "a    0.0\n",
       "dtype: float64"
      ]
     },
     "execution_count": 2,
     "metadata": {},
     "output_type": "execute_result"
    }
   ],
   "source": [
    "import pandas as pd\n",
    "import numpy as np\n",
    "data={'a':0., 'b':1., 'c':2,}\n",
    "s=pd.Series(data, index=['b', 'c', 'd', 'a'])\n",
    "(s)"
   ]
  },
  {
   "cell_type": "code",
   "execution_count": 4,
   "id": "b45cf618-20ec-4bf9-9691-bf28a03e23e6",
   "metadata": {},
   "outputs": [
    {
     "name": "stdout",
     "output_type": "stream",
     "text": [
      "  Name  grade\n",
      "0    a     20\n",
      "1    b     21\n",
      "2    c     21\n",
      "3    d     21\n"
     ]
    }
   ],
   "source": [
    "import pandas as pd\n",
    "d=[['a', 20],['b', 21],['c', 21],['d', 21]]\n",
    "df1=pd.DataFrame(d, columns=['Name','grade'])\n",
    "print(df1)"
   ]
  },
  {
   "cell_type": "code",
   "execution_count": null,
   "id": "d6cfb5e8-e564-4b3e-8c9d-19a31e137716",
   "metadata": {},
   "outputs": [],
   "source": []
  }
 ],
 "metadata": {
  "kernelspec": {
   "display_name": "Python 3 (ipykernel)",
   "language": "python",
   "name": "python3"
  },
  "language_info": {
   "codemirror_mode": {
    "name": "ipython",
    "version": 3
   },
   "file_extension": ".py",
   "mimetype": "text/x-python",
   "name": "python",
   "nbconvert_exporter": "python",
   "pygments_lexer": "ipython3",
   "version": "3.11.7"
  }
 },
 "nbformat": 4,
 "nbformat_minor": 5
}
