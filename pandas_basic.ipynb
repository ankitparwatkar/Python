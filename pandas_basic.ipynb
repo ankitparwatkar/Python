{
 "cells": [
  {
   "cell_type": "code",
   "execution_count": 1,
   "id": "53c17762-19aa-4658-8632-95e8d66f577f",
   "metadata": {},
   "outputs": [],
   "source": [
    "import numpy as np"
   ]
  },
  {
   "cell_type": "code",
   "execution_count": 2,
   "id": "31e5fe16-2247-4bb0-96a7-49baa4cfe6e1",
   "metadata": {},
   "outputs": [],
   "source": [
    "import pandas as pd"
   ]
  },
  {
   "cell_type": "code",
   "execution_count": 5,
   "id": "59e6c367-d7c0-40bc-9ad5-bcab644592f5",
   "metadata": {},
   "outputs": [
    {
     "data": {
      "text/plain": [
       "RangeIndex(start=0, stop=4, step=1)"
      ]
     },
     "execution_count": 5,
     "metadata": {},
     "output_type": "execute_result"
    }
   ],
   "source": [
    "x=pd.Series(data=[1, 3, 5, 7])\n",
    "(x.index)"
   ]
  },
  {
   "cell_type": "code",
   "execution_count": 6,
   "id": "d1e9d22a-7816-4245-bae4-91d4024ee23d",
   "metadata": {},
   "outputs": [
    {
     "data": {
      "text/plain": [
       "array([1, 3, 5, 7], dtype=int64)"
      ]
     },
     "execution_count": 6,
     "metadata": {},
     "output_type": "execute_result"
    }
   ],
   "source": [
    "(x.values)"
   ]
  },
  {
   "cell_type": "code",
   "execution_count": 7,
   "id": "ed5228b6-af55-4e46-a957-7860f9113268",
   "metadata": {},
   "outputs": [
    {
     "data": {
      "text/plain": [
       "Index(['rohit', 'aman', 'pooja'], dtype='object')"
      ]
     },
     "execution_count": 7,
     "metadata": {},
     "output_type": "execute_result"
    }
   ],
   "source": [
    "y=pd.Series(data=[11.2, 18.6, 22.3], index=['rohit', 'aman', 'pooja'])\n",
    "(y.index)"
   ]
  },
  {
   "cell_type": "code",
   "execution_count": 8,
   "id": "a62bb5bd-4586-4d92-ac1f-ee16c5934a67",
   "metadata": {},
   "outputs": [
    {
     "data": {
      "text/plain": [
       "array([11.2, 18.6, 22.3])"
      ]
     },
     "execution_count": 8,
     "metadata": {},
     "output_type": "execute_result"
    }
   ],
   "source": [
    "(y.values)"
   ]
  },
  {
   "cell_type": "code",
   "execution_count": 12,
   "id": "1a73846a-5f23-414c-96ac-2ff69a366f1f",
   "metadata": {},
   "outputs": [
    {
     "data": {
      "text/plain": [
       "3    7\n",
       "2    5\n",
       "1    3\n",
       "0    1\n",
       "dtype: int64"
      ]
     },
     "execution_count": 12,
     "metadata": {},
     "output_type": "execute_result"
    }
   ],
   "source": [
    "(x[::-1])"
   ]
  },
  {
   "cell_type": "code",
   "execution_count": 13,
   "id": "3f90fdbb-8a06-430d-99bb-e37f14b9fe18",
   "metadata": {},
   "outputs": [
    {
     "data": {
      "text/plain": [
       "5"
      ]
     },
     "execution_count": 13,
     "metadata": {},
     "output_type": "execute_result"
    }
   ],
   "source": [
    "(x[2])"
   ]
  },
  {
   "cell_type": "code",
   "execution_count": 14,
   "id": "3e174e2a-14e2-427f-9f38-f67da61d8a13",
   "metadata": {},
   "outputs": [
    {
     "data": {
      "text/plain": [
       "3    7\n",
       "dtype: int64"
      ]
     },
     "execution_count": 14,
     "metadata": {},
     "output_type": "execute_result"
    }
   ],
   "source": [
    "(x[-1:])"
   ]
  },
  {
   "cell_type": "code",
   "execution_count": 16,
   "id": "e984dadf-3c1d-4c57-a261-55841cc58f51",
   "metadata": {},
   "outputs": [
    {
     "data": {
      "text/plain": [
       "7"
      ]
     },
     "execution_count": 16,
     "metadata": {},
     "output_type": "execute_result"
    }
   ],
   "source": [
    "(x.iloc[-1])"
   ]
  },
  {
   "cell_type": "code",
   "execution_count": 31,
   "id": "93af2bb7-368c-4f1c-b000-e204723376df",
   "metadata": {},
   "outputs": [
    {
     "data": {
      "text/plain": [
       "<bound method NDFrame.tail of 0    1\n",
       "1    3\n",
       "2    5\n",
       "3    7\n",
       "dtype: int64>"
      ]
     },
     "execution_count": 31,
     "metadata": {},
     "output_type": "execute_result"
    }
   ],
   "source": [
    "(x.tail)"
   ]
  },
  {
   "cell_type": "code",
   "execution_count": 35,
   "id": "7e3be36f-20a4-41b0-a81f-0059f98f2864",
   "metadata": {},
   "outputs": [
    {
     "data": {
      "text/plain": [
       "<bound method NDFrame.head of 0    1\n",
       "1    3\n",
       "2    5\n",
       "3    7\n",
       "dtype: int64>"
      ]
     },
     "execution_count": 35,
     "metadata": {},
     "output_type": "execute_result"
    }
   ],
   "source": [
    "(x.head)"
   ]
  },
  {
   "cell_type": "code",
   "execution_count": 36,
   "id": "11023cc3-7430-4077-8b62-8b938c5e7645",
   "metadata": {},
   "outputs": [
    {
     "data": {
      "text/plain": [
       "dtype('int64')"
      ]
     },
     "execution_count": 36,
     "metadata": {},
     "output_type": "execute_result"
    }
   ],
   "source": [
    "(x.dtype)"
   ]
  },
  {
   "cell_type": "code",
   "execution_count": 37,
   "id": "41b0a162-6e15-4aec-a67e-8a8eb4a30d7b",
   "metadata": {},
   "outputs": [
    {
     "data": {
      "text/plain": [
       "dtype('float64')"
      ]
     },
     "execution_count": 37,
     "metadata": {},
     "output_type": "execute_result"
    }
   ],
   "source": [
    "(y.dtype)"
   ]
  },
  {
   "cell_type": "code",
   "execution_count": 38,
   "id": "58df6aa6-0d2d-45d8-8a40-f4310c1ad6c4",
   "metadata": {},
   "outputs": [
    {
     "data": {
      "text/plain": [
       "(4,)"
      ]
     },
     "execution_count": 38,
     "metadata": {},
     "output_type": "execute_result"
    }
   ],
   "source": [
    "(x.shape)"
   ]
  },
  {
   "cell_type": "code",
   "execution_count": 40,
   "id": "908555d3-6e99-494a-8207-d5ea9f0d120f",
   "metadata": {},
   "outputs": [
    {
     "data": {
      "text/plain": [
       "(3,)"
      ]
     },
     "execution_count": 40,
     "metadata": {},
     "output_type": "execute_result"
    }
   ],
   "source": [
    "(y.shape)"
   ]
  },
  {
   "cell_type": "code",
   "execution_count": 41,
   "id": "e059480b-1849-44c8-9bf9-46bda5f7ff61",
   "metadata": {},
   "outputs": [
    {
     "data": {
      "text/plain": [
       "4"
      ]
     },
     "execution_count": 41,
     "metadata": {},
     "output_type": "execute_result"
    }
   ],
   "source": [
    "(x.size)"
   ]
  }
 ],
 "metadata": {
  "kernelspec": {
   "display_name": "Python 3 (ipykernel)",
   "language": "python",
   "name": "python3"
  },
  "language_info": {
   "codemirror_mode": {
    "name": "ipython",
    "version": 3
   },
   "file_extension": ".py",
   "mimetype": "text/x-python",
   "name": "python",
   "nbconvert_exporter": "python",
   "pygments_lexer": "ipython3",
   "version": "3.11.7"
  }
 },
 "nbformat": 4,
 "nbformat_minor": 5
}
