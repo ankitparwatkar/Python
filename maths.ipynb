{
 "cells": [
  {
   "cell_type": "code",
   "execution_count": 2,
   "metadata": {},
   "outputs": [
    {
     "name": "stdout",
     "output_type": "stream",
     "text": [
      "Hello\n"
     ]
    }
   ],
   "source": [
    "print(\"Hello\")"
   ]
  },
  {
   "cell_type": "code",
   "execution_count": 3,
   "metadata": {},
   "outputs": [
    {
     "name": "stdout",
     "output_type": "stream",
     "text": [
      "factorial of a number= 120\n",
      "sum of factorial 153\n"
     ]
    }
   ],
   "source": [
    "i=1\n",
    "n=int(input(\"Enter the number:\"))\n",
    "fact=1\n",
    "sum_fact=0\n",
    "while(i<=n):\n",
    "    fact=fact*i\n",
    "    sum_fact=sum_fact+fact\n",
    "    i+=1\n",
    "print(\"factorial of a number=\", fact)\n",
    "print(\"sum of factorial\", sum_fact)"
   ]
  },
  {
   "cell_type": "code",
   "execution_count": 4,
   "metadata": {},
   "outputs": [
    {
     "name": "stdout",
     "output_type": "stream",
     "text": [
      "Result: -19\n"
     ]
    }
   ],
   "source": [
    "#Calculate the expression factorial(1) - factorial(2) + factorial(3) - factorial(4) with input from the user:\n",
    "\n",
    "def factorial(n):\n",
    "    if n == 0 or n == 1:\n",
    "        return 1\n",
    "    else:\n",
    "        return n * factorial(n - 1)\n",
    "\n",
    "result = factorial(1) - factorial(2) + factorial(3) - factorial(4)\n",
    "print(f'Result: {result}')"
   ]
  },
  {
   "cell_type": "code",
   "execution_count": 5,
   "metadata": {},
   "outputs": [
    {
     "name": "stdout",
     "output_type": "stream",
     "text": [
      "Result: 121.0\n"
     ]
    }
   ],
   "source": [
    "#Calculate factorial(n) / factorial(1) + factorial(2) / 2 with input taken from the user:\n",
    "\n",
    "def factorial(n):\n",
    "    if n == 0 or n == 1:\n",
    "        return 1\n",
    "    else:\n",
    "        return n * factorial(n - 1)\n",
    "\n",
    "n = int(input(\"Enter a number: \"))\n",
    "result = factorial(n) / factorial(1) + factorial(2) / 2\n",
    "print(f'Result: {result}')"
   ]
  },
  {
   "cell_type": "code",
   "execution_count": 6,
   "metadata": {},
   "outputs": [
    {
     "name": "stdout",
     "output_type": "stream",
     "text": [
      "Fibonacci series: [0, 1, 1, 2, 3]\n"
     ]
    }
   ],
   "source": [
    "#Print the Fibonacci (Kivonaki) series 0, 1, 1, 2, 3, 5, ...:\n",
    "\n",
    "def fibonacci_series(n):\n",
    "    series = [0, 1]\n",
    "    while len(series) < n:\n",
    "        next_number = series[-1] + series[-2]\n",
    "        series.append(next_number)\n",
    "    return series\n",
    "\n",
    "n = int(input(\"Enter the number of terms: \"))\n",
    "series = fibonacci_series(n)\n",
    "print(f'Fibonacci series: {series}')"
   ]
  },
  {
   "cell_type": "code",
   "execution_count": 7,
   "metadata": {},
   "outputs": [
    {
     "name": "stdout",
     "output_type": "stream",
     "text": [
      "Is 5 prime? True\n"
     ]
    }
   ],
   "source": [
    "#Program to check if a number is prime or not in 3 different ways:\n",
    "\n",
    "#Using a simple iteration:\n",
    "\n",
    "def is_prime_simple(n):\n",
    "    if n <= 1:\n",
    "        return False\n",
    "    for i in range(2, n):\n",
    "        if n % i == 0:\n",
    "            return False\n",
    "    return True\n",
    "\n",
    "n = int(input(\"Enter a number: \"))\n",
    "print(f'Is {n} prime? {is_prime_simple(n)}')"
   ]
  },
  {
   "cell_type": "code",
   "execution_count": 8,
   "metadata": {},
   "outputs": [
    {
     "name": "stdout",
     "output_type": "stream",
     "text": [
      "Is 5 prime? True\n"
     ]
    }
   ],
   "source": [
    "#Using the square root method:\n",
    "\n",
    "import math\n",
    "\n",
    "def is_prime_sqrt(n):\n",
    "    if n <= 1:\n",
    "        return False\n",
    "    for i in range(2, int(math.sqrt(n)) + 1):\n",
    "        if n % i == 0:\n",
    "            return False\n",
    "    return True\n",
    "\n",
    "print(f'Is {n} prime? {is_prime_sqrt(n)}')"
   ]
  },
  {
   "cell_type": "code",
   "execution_count": 9,
   "metadata": {},
   "outputs": [
    {
     "name": "stdout",
     "output_type": "stream",
     "text": [
      "Is 5 prime? True\n"
     ]
    }
   ],
   "source": [
    "#Using recursion:\n",
    "\n",
    "def is_prime_recursive(n, divisor=None):\n",
    "    if divisor is None:\n",
    "        divisor = n - 1\n",
    "    if n <= 1:\n",
    "        return False\n",
    "    if divisor == 1:\n",
    "        return True\n",
    "    if n % divisor == 0:\n",
    "        return False\n",
    "    return is_prime_recursive(n, divisor - 1)\n",
    "\n",
    "print(f'Is {n} prime? {is_prime_recursive(n)}')"
   ]
  },
  {
   "cell_type": "code",
   "execution_count": 10,
   "metadata": {},
   "outputs": [
    {
     "name": "stdout",
     "output_type": "stream",
     "text": [
      "sum of digit= 5\n"
     ]
    }
   ],
   "source": [
    "n=int(input(\"Enter the number:\"))\n",
    "sum=0\n",
    "while(n>0):\n",
    "    r=n%10\n",
    "    sum=sum+r\n",
    "    n=n//10\n",
    "print(\"sum of digit=\", sum)"
   ]
  },
  {
   "cell_type": "code",
   "execution_count": 11,
   "metadata": {},
   "outputs": [
    {
     "name": "stdout",
     "output_type": "stream",
     "text": [
      "Pelendrom 5\n",
      "Reverse of the number: 5\n",
      "Sum of digits: 5\n"
     ]
    }
   ],
   "source": [
    "n=int(input(\"Enter the number: \"))\n",
    "reverse=0\n",
    "sum=0\n",
    "temp=n\n",
    "while(n>0):\n",
    "    r=n%10\n",
    "    reverse=reverse*10+r\n",
    "    sum+=r\n",
    "    n=n//10\n",
    "if(reverse==temp):\n",
    "    print(\"Pelendrom\", reverse)\n",
    "else:\n",
    "    print(\"Not Palendrom\")\n",
    "\n",
    "print(\"Reverse of the number:\", reverse)\n",
    "print(\"Sum of digits:\", sum)"
   ]
  },
  {
   "cell_type": "code",
   "execution_count": 12,
   "metadata": {},
   "outputs": [],
   "source": [
    "# User se runtime pe koi number insert karana hai aur ek bar aur nauber insert karana hai or dusra number jitna value hai utne hi pelendrom number show karana hai\n",
    "# Armstrong Number (Important)"
   ]
  },
  {
   "cell_type": "code",
   "execution_count": 13,
   "metadata": {},
   "outputs": [
    {
     "name": "stdout",
     "output_type": "stream",
     "text": [
      "Converted integer: 5\n"
     ]
    }
   ],
   "source": [
    "user_input = float(input(\"Enter a floating-point number: \"))\n",
    "converted_integer = int(user_input)\n",
    "print(f'Converted integer: {converted_integer}')"
   ]
  },
  {
   "cell_type": "code",
   "execution_count": 14,
   "metadata": {},
   "outputs": [
    {
     "name": "stdout",
     "output_type": "stream",
     "text": [
      "The sum is: 350\n"
     ]
    }
   ],
   "source": [
    "def add_numbers(a, b):\n",
    "    return a + b\n",
    "\n",
    "# Example usage:\n",
    "result = add_numbers(50, 300)\n",
    "print(f'The sum is: {result}')"
   ]
  },
  {
   "cell_type": "markdown",
   "metadata": {},
   "source": [
    "# function in python \n",
    "# no return no argumnet \n",
    "# no retun with argument \n",
    "# return no argument \n",
    "# return with argument "
   ]
  },
  {
   "cell_type": "markdown",
   "metadata": {},
   "source": [
    "# Local variable and Global variable\n",
    "\n",
    "# When we declare any variable with the scope of a function then such type of variable is know as Local variable and Scope of the Local variable is only inside the function.\n",
    "\n",
    "# When we declare any variable outside the function is known as Global variable and the Scope of a global variable is outside the function as well as inside the function.\n",
    "\n",
    "# Syntax of a Function\n",
    "\n",
    "# def myfunc():\n",
    "#     statement of a function\n"
   ]
  },
  {
   "cell_type": "code",
   "execution_count": 15,
   "metadata": {},
   "outputs": [
    {
     "name": "stdout",
     "output_type": "stream",
     "text": [
      "Add = 16\n"
     ]
    }
   ],
   "source": [
    "def myfunc():\n",
    "    a = 6\n",
    "    b = 10\n",
    "    c = a + b\n",
    "    print(\"Add =\", c)\n",
    "myfunc()"
   ]
  },
  {
   "cell_type": "code",
   "execution_count": 16,
   "metadata": {},
   "outputs": [
    {
     "name": "stdout",
     "output_type": "stream",
     "text": [
      "Add = 30\n"
     ]
    }
   ],
   "source": [
    "def myfunc(x, y):\n",
    "    a = x\n",
    "    b = y\n",
    "    c = a + b\n",
    "    print(\"Add =\", c)\n",
    "myfunc(10, 20)"
   ]
  },
  {
   "cell_type": "code",
   "execution_count": 17,
   "metadata": {},
   "outputs": [
    {
     "name": "stdout",
     "output_type": "stream",
     "text": [
      "6\n",
      "7\n",
      "8\n",
      "9\n",
      "11\n"
     ]
    }
   ],
   "source": [
    "n = int(input(\"Enter the number: \"))\n",
    "x = int(input(\"Enter the number of palendrom: \"))\n",
    "n +=1\n",
    "cnt = 0\n",
    "while(cnt<x):\n",
    "    temp = n\n",
    "    reverse = 0\n",
    "    while(temp>0):\n",
    "        r = temp%10\n",
    "        reverse = reverse*10+r\n",
    "        temp = temp//10\n",
    "    if(n==reverse):\n",
    "        print(n)\n",
    "        cnt+=1\n",
    "    n+=1"
   ]
  },
  {
   "cell_type": "code",
   "execution_count": 18,
   "metadata": {},
   "outputs": [
    {
     "name": "stdout",
     "output_type": "stream",
     "text": [
      "5 x 1 = 5\n",
      "5 x 2 = 10\n",
      "5 x 3 = 15\n",
      "5 x 4 = 20\n",
      "5 x 5 = 25\n",
      "5 x 6 = 30\n",
      "5 x 7 = 35\n",
      "5 x 8 = 40\n",
      "5 x 9 = 45\n",
      "5 x 10 = 50\n"
     ]
    }
   ],
   "source": [
    "number = int(input(\"Enter a number to print its multiplication table: \"))\n",
    "for i in range(1, 11):\n",
    "    print(f'{number} x {i} = {number * i}')"
   ]
  },
  {
   "cell_type": "code",
   "execution_count": 19,
   "metadata": {},
   "outputs": [
    {
     "name": "stdout",
     "output_type": "stream",
     "text": [
      "i am a string\n",
      "i am also a string\n",
      "i am a multiline string\n",
      "i am also a multiline string\n",
      "13\n",
      "i am \n"
     ]
    }
   ],
   "source": [
    "s = 'i am a string'\n",
    "s1 = \"i am also a string\"\n",
    "s2 = '''i am a multiline string'''\n",
    "s3 = \"\"\"i am also a multiline string\"\"\"\n",
    "print(s)\n",
    "print(s1)\n",
    "print(s2)\n",
    "print(s3)\n",
    "X = len(s)\n",
    "#slicing of a string \n",
    "print(X)\n",
    "print(s[0:5])"
   ]
  },
  {
   "cell_type": "code",
   "execution_count": 16,
   "metadata": {},
   "outputs": [
    {
     "name": "stdout",
     "output_type": "stream",
     "text": [
      "Reversed string: gnirts elpmaxe ruoY5\n"
     ]
    }
   ],
   "source": [
    "reversed_s = '5'\n",
    "for char in s:\n",
    "    reversed_s = char + reversed_s\n",
    "print(f'Reversed string: {reversed_s}')"
   ]
  },
  {
   "cell_type": "code",
   "execution_count": 21,
   "metadata": {},
   "outputs": [
    {
     "name": "stdout",
     "output_type": "stream",
     "text": [
      "Reversed string: gnirts a ma i\n"
     ]
    }
   ],
   "source": [
    "def reverse_string(input_string):\n",
    "    reversed_str = ''\n",
    "    index = len(input_string) - 1\n",
    "    while index >= 0:\n",
    "        reversed_str += input_string[index]\n",
    "        index -= 1\n",
    "    return reversed_str\n",
    "\n",
    "reversed_s = reverse_string(s)\n",
    "print(f'Reversed string: {reversed_s}')"
   ]
  },
  {
   "cell_type": "code",
   "execution_count": 14,
   "metadata": {},
   "outputs": [
    {
     "name": "stdout",
     "output_type": "stream",
     "text": [
      "String without whitespaces: Yourexamplestring\n"
     ]
    }
   ],
   "source": [
    "def remove_whitespaces(input_string):\n",
    "    return ''.join([char for char in input_string if char != ' '])\n",
    "\n",
    "# Example usage:\n",
    "s = \"Your example string\"\n",
    "no_whitespace_s = remove_whitespaces(s)\n",
    "print(f'String without whitespaces: {no_whitespace_s}')\n"
   ]
  },
  {
   "cell_type": "code",
   "execution_count": 17,
   "metadata": {},
   "outputs": [
    {
     "name": "stdout",
     "output_type": "stream",
     "text": [
      "2\n"
     ]
    }
   ],
   "source": [
    "x = lambda a, b: a - b; print(x(5, 3)) "
   ]
  },
  {
   "cell_type": "code",
   "execution_count": 28,
   "metadata": {},
   "outputs": [
    {
     "name": "stdout",
     "output_type": "stream",
     "text": [
      "22\n"
     ]
    }
   ],
   "source": [
    "# user defined function\n",
    "def myfunc(n):\n",
    "    return lambda a: a * n\n",
    "mydoubler = myfunc(2)\n",
    "print(mydoubler(11))"
   ]
  },
  {
   "cell_type": "code",
   "execution_count": 1,
   "metadata": {},
   "outputs": [
    {
     "name": "stdout",
     "output_type": "stream",
     "text": [
      "KHUSHI\n",
      "abishek\n",
      "Khushi\n",
      "True\n",
      "False\n",
      "True\n",
      "1\n",
      "4\n"
     ]
    }
   ],
   "source": [
    "str1 = \"Khushi\"\n",
    "str2 = \"Abishek\"\n",
    "print(str1.upper())\n",
    "print(str2.lower())\n",
    "print(str1.capitalize())\n",
    "print(str2.isalpha())\n",
    "print(str2.isdigit())\n",
    "print(str2.isalnum())\n",
    "print(str2.count('h'))\n",
    "print(str2.index('h'))"
   ]
  },
  {
   "cell_type": "code",
   "execution_count": 2,
   "metadata": {},
   "outputs": [
    {
     "name": "stdout",
     "output_type": "stream",
     "text": [
      "Reversed str1: ihsuhK\n",
      "Reversed str2: kehsibA\n"
     ]
    }
   ],
   "source": [
    "reversed_str1 = str1[::-1]\n",
    "reversed_str2 = str2[::-1]\n",
    "\n",
    "print(f'Reversed str1: {reversed_str1}')\n",
    "print(f'Reversed str2: {reversed_str2}')"
   ]
  },
  {
   "cell_type": "code",
   "execution_count": 3,
   "metadata": {},
   "outputs": [
    {
     "name": "stdout",
     "output_type": "stream",
     "text": [
      "Reversed str1 without slicer: ihsuhK\n",
      "Reversed str2 without slicer: kehsibA\n"
     ]
    }
   ],
   "source": [
    "def reverse_string_without_slicer(input_string):\n",
    "    reversed_str = ''\n",
    "    for char in input_string:\n",
    "        reversed_str = char + reversed_str\n",
    "    return reversed_str\n",
    "\n",
    "reversed_str1 = reverse_string_without_slicer(str1)\n",
    "reversed_str2 = reverse_string_without_slicer(str2)\n",
    "\n",
    "print(f'Reversed str1 without slicer: {reversed_str1}')\n",
    "print(f'Reversed str2 without slicer: {reversed_str2}')"
   ]
  },
  {
   "cell_type": "code",
   "execution_count": 5,
   "metadata": {},
   "outputs": [
    {
     "name": "stdout",
     "output_type": "stream",
     "text": [
      "Reversed str1 using while loop: ihsuhK\n",
      "Reversed str2 using while loop: kehsibA\n"
     ]
    }
   ],
   "source": [
    "def reverse_string_while(bhopal):\n",
    "    reversed_str = ''\n",
    "    index = len(bhopal) - 1\n",
    "    while index >= 0:\n",
    "        reversed_str += bhopal[index]\n",
    "        index -= 1\n",
    "    return reversed_str\n",
    "\n",
    "reversed_str1 = reverse_string_while(str1)\n",
    "reversed_str2 = reverse_string_while(str2)\n",
    "\n",
    "print(f'Reversed str1 using while loop: {reversed_str1}')\n",
    "print(f'Reversed str2 using while loop: {reversed_str2}')"
   ]
  },
  {
   "cell_type": "code",
   "execution_count": 6,
   "metadata": {},
   "outputs": [
    {
     "name": "stdout",
     "output_type": "stream",
     "text": [
      "nohtyP ot emocleW\n"
     ]
    }
   ],
   "source": [
    "s = \"Welcome to Python\"\n",
    "rev = \"\"\n",
    "i = 0\n",
    "while i < len(s):\n",
    "    rev = s[i] + rev\n",
    "    i += 1\n",
    "print(rev)"
   ]
  },
  {
   "cell_type": "code",
   "execution_count": 7,
   "metadata": {},
   "outputs": [
    {
     "name": "stdout",
     "output_type": "stream",
     "text": [
      "String after swapping first and last characters: nohtyP ot emocleW\n"
     ]
    }
   ],
   "source": [
    "def swap_first_last_char(input_string):\n",
    "    if len(input_string) <= 1:\n",
    "        return input_string\n",
    "    \n",
    "    swapped_string = list(input_string)\n",
    "    i = 0\n",
    "    j = len(input_string) - 1\n",
    "    \n",
    "    while i < j:\n",
    "        swapped_string[i], swapped_string[j] = swapped_string[j], swapped_string[i]\n",
    "        i += 1\n",
    "        j -= 1\n",
    "    \n",
    "    return ''.join(swapped_string)\n",
    "\n",
    "# Example usage:\n",
    "s = \"Welcome to Python\"\n",
    "swapped_s = swap_first_last_char(s)\n",
    "print(f'String after swapping first and last characters: {swapped_s}')"
   ]
  },
  {
   "cell_type": "code",
   "execution_count": 1,
   "metadata": {},
   "outputs": [
    {
     "name": "stdout",
     "output_type": "stream",
     "text": [
      "This is class of function\n"
     ]
    }
   ],
   "source": [
    "print(\"This is class of function\")"
   ]
  },
  {
   "cell_type": "code",
   "execution_count": 2,
   "metadata": {},
   "outputs": [
    {
     "name": "stdout",
     "output_type": "stream",
     "text": [
      "Is 5 odd? True\n"
     ]
    }
   ],
   "source": [
    "def is_odd(n):\n",
    "    return n % 2 != 0\n",
    "\n",
    "# Example usage:\n",
    "number = int(input(\"Enter a number: \"))\n",
    "print(f'Is {number} odd? {is_odd(number)}')"
   ]
  },
  {
   "cell_type": "code",
   "execution_count": 3,
   "metadata": {},
   "outputs": [
    {
     "name": "stdout",
     "output_type": "stream",
     "text": [
      "Reversed string of number: 5\n"
     ]
    }
   ],
   "source": [
    "def reverse_string(input_string):\n",
    "    return input_string[::-1]\n",
    "\n",
    "# Example usage:\n",
    "number_str = str(number)\n",
    "reversed_number_str = reverse_string(number_str)\n",
    "print(f'Reversed string of number: {reversed_number_str}')"
   ]
  },
  {
   "cell_type": "code",
   "execution_count": 4,
   "metadata": {},
   "outputs": [
    {
     "name": "stdout",
     "output_type": "stream",
     "text": [
      "Reversed string: 65\n"
     ]
    }
   ],
   "source": [
    "def reverse_string(input_string):\n",
    "    return input_string[::-1]\n",
    "\n",
    "# Get input from the user\n",
    "user_input = input(\"Enter a string to reverse: \")\n",
    "reversed_input = reverse_string(user_input)\n",
    "print(f'Reversed string: {reversed_input}')"
   ]
  },
  {
   "cell_type": "code",
   "execution_count": 5,
   "metadata": {},
   "outputs": [
    {
     "name": "stdout",
     "output_type": "stream",
     "text": [
      "Reversed string: 65\n"
     ]
    }
   ],
   "source": [
    "user_input = input(\"Enter a string to reverse: \")\n",
    "\n",
    "def reverse_string_while(input_string):\n",
    "    reversed_str = ''\n",
    "    index = len(input_string) - 1\n",
    "    while index >= 0:\n",
    "        reversed_str += input_string[index]\n",
    "        index -= 1\n",
    "    return reversed_str\n",
    "\n",
    "reversed_input = reverse_string_while(user_input)\n",
    "print(f'Reversed string: {reversed_input}')"
   ]
  },
  {
   "cell_type": "code",
   "execution_count": 4,
   "metadata": {},
   "outputs": [
    {
     "name": "stdout",
     "output_type": "stream",
     "text": [
      "The value of a is: Hello World\n"
     ]
    }
   ],
   "source": [
    "#No return with argument\n",
    "def noreturn_with_argument(a):\n",
    "    print(\"The value of a is:\", a)\n",
    " \n",
    "argument=\"Hello World\"   \n",
    "noreturn_with_argument(argument)"
   ]
  },
  {
   "cell_type": "code",
   "execution_count": 6,
   "metadata": {},
   "outputs": [
    {
     "name": "stdout",
     "output_type": "stream",
     "text": [
      "The sum is: 30\n"
     ]
    }
   ],
   "source": [
    "def add_two_numbers(x, y):\n",
    "    return x + y\n",
    "\n",
    "result = add_two_numbers(10, 20)\n",
    "print(f'The sum is: {result}')"
   ]
  },
  {
   "cell_type": "code",
   "execution_count": 7,
   "metadata": {},
   "outputs": [
    {
     "name": "stdout",
     "output_type": "stream",
     "text": [
      "2 x 1 = 2\n",
      "2 x 2 = 4\n",
      "2 x 3 = 6\n",
      "2 x 4 = 8\n",
      "2 x 5 = 10\n",
      "2 x 6 = 12\n",
      "2 x 7 = 14\n",
      "2 x 8 = 16\n",
      "2 x 9 = 18\n",
      "2 x 10 = 20\n"
     ]
    }
   ],
   "source": [
    "for i in range(1, 11):\n",
    "    print(f'2 x {i} = {2 * i}')"
   ]
  },
  {
   "cell_type": "markdown",
   "metadata": {},
   "source": [
    "#default argument\n",
    "When any parameter can hold a value then such type of value is known as default argument.\n",
    "\n",
    "When calling the function there will be not neccessary to pass an argument where there is default argument.\n",
    "\n",
    "When we pass the argument when calling the function the value should be overwrite."
   ]
  },
  {
   "cell_type": "code",
   "execution_count": null,
   "metadata": {},
   "outputs": [
    {
     "name": "stdout",
     "output_type": "stream",
     "text": [
      "Add 30\n"
     ]
    }
   ],
   "source": [
    "def noreturn_with_argument(a=50, b=50):\n",
    "    c=a+b\n",
    "    if(c==100):\n",
    "        print(\"Please provide two arguments when calling the function to add two numbers\")\n",
    "    else:\n",
    "        print(\"Add\", c)\n",
    "        \n",
    "noreturn_with_argument(10, 20)"
   ]
  },
  {
   "cell_type": "code",
   "execution_count": 10,
   "metadata": {},
   "outputs": [
    {
     "name": "stdout",
     "output_type": "stream",
     "text": [
      "Add 300\n"
     ]
    }
   ],
   "source": [
    "\n",
    "def noreturn_with_argument(a=50, b=50):\n",
    "    c=a+b\n",
    "    if(c==100):\n",
    "        print(\"Please provide two arguments when calling the function to add two numbers\")\n",
    "    else:\n",
    "        print(\"Add\", c)\n",
    "        \n",
    "name_change=noreturn_with_argument\n",
    "name_change(100, 200)"
   ]
  },
  {
   "cell_type": "code",
   "execution_count": 14,
   "metadata": {},
   "outputs": [
    {
     "data": {
      "text/plain": [
       "101"
      ]
     },
     "execution_count": 14,
     "metadata": {},
     "output_type": "execute_result"
    }
   ],
   "source": [
    "\n",
    "def noreturn_with_argument():\n",
    "    a=51\n",
    "    b=50\n",
    "    c=a+b\n",
    "    if(c==100):\n",
    "        print(\"Please provide two arguments when calling the function to add two numbers\")\n",
    "    else:\n",
    "        return c\n",
    "        \n",
    "name_change=noreturn_with_argument\n",
    "name_change()"
   ]
  },
  {
   "cell_type": "code",
   "execution_count": 1,
   "metadata": {},
   "outputs": [
    {
     "name": "stdout",
     "output_type": "stream",
     "text": [
      "110\n"
     ]
    }
   ],
   "source": [
    "def func(a, b , c, d, e=10):\n",
    "    add=a+b+c+d+e\n",
    "    return add\n",
    "ans=func(10, 20, 30, 40)\n",
    "print(ans)"
   ]
  },
  {
   "cell_type": "markdown",
   "metadata": {},
   "source": [
    "#Keyword Argument\n",
    "#When we pass any parameter inside the function with * then such type of argument is known as keyword argument "
   ]
  },
  {
   "cell_type": "code",
   "execution_count": 4,
   "metadata": {},
   "outputs": [
    {
     "name": "stdout",
     "output_type": "stream",
     "text": [
      "(10, 20, 30, 40)\n"
     ]
    }
   ],
   "source": [
    "def func(*kwargs):\n",
    "    print(kwargs)\n",
    "func(10, 20, 30, 40)"
   ]
  },
  {
   "cell_type": "markdown",
   "metadata": {},
   "source": [
    "#Lambda : it is also known as ine line function."
   ]
  },
  {
   "cell_type": "code",
   "execution_count": 7,
   "metadata": {},
   "outputs": [
    {
     "name": "stdout",
     "output_type": "stream",
     "text": [
      "5\n"
     ]
    }
   ],
   "source": [
    "x = lambda y:y\n",
    "print(x(5))"
   ]
  },
  {
   "cell_type": "code",
   "execution_count": 8,
   "metadata": {},
   "outputs": [
    {
     "name": "stdout",
     "output_type": "stream",
     "text": [
      "100\n"
     ]
    }
   ],
   "source": [
    "x = lambda y=5, z=5: y*z\n",
    "print(x(10, 10))"
   ]
  },
  {
   "cell_type": "code",
   "execution_count": 5,
   "metadata": {},
   "outputs": [
    {
     "name": "stdout",
     "output_type": "stream",
     "text": [
      "Result after adding 5: 115\n"
     ]
    }
   ],
   "source": [
    "add_five = lambda x: x + 5\n",
    "result = add_five(ans)\n",
    "print(f'Result after adding 5: {result}')"
   ]
  },
  {
   "cell_type": "code",
   "execution_count": 6,
   "metadata": {},
   "outputs": [
    {
     "name": "stdout",
     "output_type": "stream",
     "text": [
      "Sum: 225, Difference: -5, Product: 12650, Division: 0.9565217391304348\n"
     ]
    }
   ],
   "source": [
    "def arbitrary_function(a, b):\n",
    "    sum_ab = a + b\n",
    "    diff_ab = a - b\n",
    "    prod_ab = a * b\n",
    "    if b != 0:\n",
    "        div_ab = a / b\n",
    "    else:\n",
    "        div_ab = None\n",
    "    return sum_ab, diff_ab, prod_ab, div_ab\n",
    "\n",
    "# Example usage:\n",
    "sum_ab, diff_ab, prod_ab, div_ab = arbitrary_function(ans, result)\n",
    "print(f'Sum: {sum_ab}, Difference: {diff_ab}, Product: {prod_ab}, Division: {div_ab}')"
   ]
  },
  {
   "cell_type": "code",
   "execution_count": 10,
   "metadata": {},
   "outputs": [
    {
     "name": "stdout",
     "output_type": "stream",
     "text": [
      "factorial of a number = 120\n"
     ]
    }
   ],
   "source": [
    "def fact(n):\n",
    "    i=1\n",
    "    fact=1\n",
    "    while(i<=n):\n",
    "        fact=fact*i\n",
    "        i+=1\n",
    "    print(\"factorial of a number =\", fact)\n",
    "\n",
    "n=int(input(\"Enter the number:\"))\n",
    "fact(n)"
   ]
  },
  {
   "cell_type": "markdown",
   "metadata": {},
   "source": [
    "#Recuression function\n",
    "\n",
    "#When the function call itself then it is known as recurssion function"
   ]
  },
  {
   "cell_type": "code",
   "execution_count": 2,
   "metadata": {},
   "outputs": [
    {
     "name": "stdout",
     "output_type": "stream",
     "text": [
      "15\n"
     ]
    }
   ],
   "source": [
    "def fact(n):\n",
    "    if n==0:\n",
    "        result=0\n",
    "        return result\n",
    "    else:\n",
    "        result=n+fact(n-1)\n",
    "        return result\n",
    "print(fact(5)) "
   ]
  },
  {
   "cell_type": "markdown",
   "metadata": {},
   "source": [
    "Using recursion function check the no is prime or not \n",
    "Difference between function and module\n",
    "member operator (in and not in)  "
   ]
  },
  {
   "cell_type": "code",
   "execution_count": null,
   "metadata": {},
   "outputs": [],
   "source": []
  }
 ],
 "metadata": {
  "kernelspec": {
   "display_name": "Python 3",
   "language": "python",
   "name": "python3"
  },
  "language_info": {
   "codemirror_mode": {
    "name": "ipython",
    "version": 3
   },
   "file_extension": ".py",
   "mimetype": "text/x-python",
   "name": "python",
   "nbconvert_exporter": "python",
   "pygments_lexer": "ipython3",
   "version": "3.12.6"
  }
 },
 "nbformat": 4,
 "nbformat_minor": 2
}
