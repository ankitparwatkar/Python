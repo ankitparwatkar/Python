{
 "cells": [
  {
   "cell_type": "code",
   "execution_count": 18,
   "metadata": {},
   "outputs": [
    {
     "name": "stdout",
     "output_type": "stream",
     "text": [
      "Hello\n"
     ]
    }
   ],
   "source": [
    "print(\"Hello\")"
   ]
  },
  {
   "cell_type": "code",
   "execution_count": 19,
   "metadata": {},
   "outputs": [
    {
     "name": "stdout",
     "output_type": "stream",
     "text": [
      "factorial of a number= 120\n",
      "sum of factorial 153\n"
     ]
    }
   ],
   "source": [
    "i=1\n",
    "n=int(input(\"Enter the number:\"))\n",
    "fact=1\n",
    "sum_fact=0\n",
    "while(i<=n):\n",
    "    fact=fact*i\n",
    "    sum_fact=sum_fact+fact\n",
    "    i+=1\n",
    "print(\"factorial of a number=\", fact)\n",
    "print(\"sum of factorial\", sum_fact)"
   ]
  },
  {
   "cell_type": "code",
   "execution_count": 20,
   "metadata": {},
   "outputs": [
    {
     "name": "stdout",
     "output_type": "stream",
     "text": [
      "Result: -19\n"
     ]
    }
   ],
   "source": [
    "#Calculate the expression factorial(1) - factorial(2) + factorial(3) - factorial(4) with input from the user:\n",
    "\n",
    "def factorial(n):\n",
    "    if n == 0 or n == 1:\n",
    "        return 1\n",
    "    else:\n",
    "        return n * factorial(n - 1)\n",
    "\n",
    "result = factorial(1) - factorial(2) + factorial(3) - factorial(4)\n",
    "print(f'Result: {result}')"
   ]
  },
  {
   "cell_type": "code",
   "execution_count": 21,
   "metadata": {},
   "outputs": [
    {
     "name": "stdout",
     "output_type": "stream",
     "text": [
      "Result: 121.0\n"
     ]
    }
   ],
   "source": [
    "#Calculate factorial(n) / factorial(1) + factorial(2) / 2 with input taken from the user:\n",
    "\n",
    "def factorial(n):\n",
    "    if n == 0 or n == 1:\n",
    "        return 1\n",
    "    else:\n",
    "        return n * factorial(n - 1)\n",
    "\n",
    "n = int(input(\"Enter a number: \"))\n",
    "result = factorial(n) / factorial(1) + factorial(2) / 2\n",
    "print(f'Result: {result}')"
   ]
  },
  {
   "cell_type": "code",
   "execution_count": 22,
   "metadata": {},
   "outputs": [
    {
     "name": "stdout",
     "output_type": "stream",
     "text": [
      "Fibonacci series: [0, 1, 1, 2, 3]\n"
     ]
    }
   ],
   "source": [
    "#Print the Fibonacci (Kivonaki) series 0, 1, 1, 2, 3, 5, ...:\n",
    "\n",
    "def fibonacci_series(n):\n",
    "    series = [0, 1]\n",
    "    while len(series) < n:\n",
    "        next_number = series[-1] + series[-2]\n",
    "        series.append(next_number)\n",
    "    return series\n",
    "\n",
    "n = int(input(\"Enter the number of terms: \"))\n",
    "series = fibonacci_series(n)\n",
    "print(f'Fibonacci series: {series}')"
   ]
  },
  {
   "cell_type": "code",
   "execution_count": 23,
   "metadata": {},
   "outputs": [
    {
     "name": "stdout",
     "output_type": "stream",
     "text": [
      "Is 5 prime? True\n"
     ]
    }
   ],
   "source": [
    "#Program to check if a number is prime or not in 3 different ways:\n",
    "\n",
    "#Using a simple iteration:\n",
    "\n",
    "def is_prime_simple(n):\n",
    "    if n <= 1:\n",
    "        return False\n",
    "    for i in range(2, n):\n",
    "        if n % i == 0:\n",
    "            return False\n",
    "    return True\n",
    "\n",
    "n = int(input(\"Enter a number: \"))\n",
    "print(f'Is {n} prime? {is_prime_simple(n)}')"
   ]
  },
  {
   "cell_type": "code",
   "execution_count": 24,
   "metadata": {},
   "outputs": [
    {
     "name": "stdout",
     "output_type": "stream",
     "text": [
      "Is 5 prime? True\n"
     ]
    }
   ],
   "source": [
    "#Using the square root method:\n",
    "\n",
    "import math\n",
    "\n",
    "def is_prime_sqrt(n):\n",
    "    if n <= 1:\n",
    "        return False\n",
    "    for i in range(2, int(math.sqrt(n)) + 1):\n",
    "        if n % i == 0:\n",
    "            return False\n",
    "    return True\n",
    "\n",
    "print(f'Is {n} prime? {is_prime_sqrt(n)}')"
   ]
  },
  {
   "cell_type": "code",
   "execution_count": 25,
   "metadata": {},
   "outputs": [
    {
     "name": "stdout",
     "output_type": "stream",
     "text": [
      "Is 5 prime? True\n"
     ]
    }
   ],
   "source": [
    "#Using recursion:\n",
    "\n",
    "def is_prime_recursive(n, divisor=None):\n",
    "    if divisor is None:\n",
    "        divisor = n - 1\n",
    "    if n <= 1:\n",
    "        return False\n",
    "    if divisor == 1:\n",
    "        return True\n",
    "    if n % divisor == 0:\n",
    "        return False\n",
    "    return is_prime_recursive(n, divisor - 1)\n",
    "\n",
    "print(f'Is {n} prime? {is_prime_recursive(n)}')"
   ]
  },
  {
   "cell_type": "code",
   "execution_count": 26,
   "metadata": {},
   "outputs": [
    {
     "name": "stdout",
     "output_type": "stream",
     "text": [
      "sum of digit= 5\n"
     ]
    }
   ],
   "source": [
    "n=int(input(\"Enter the number:\"))\n",
    "sum=0\n",
    "while(n>0):\n",
    "    r=n%10\n",
    "    sum=sum+r\n",
    "    n=n//10\n",
    "print(\"sum of digit=\", sum)"
   ]
  },
  {
   "cell_type": "code",
   "execution_count": 29,
   "metadata": {},
   "outputs": [
    {
     "name": "stdout",
     "output_type": "stream",
     "text": [
      "Pelendrom 121\n",
      "Reverse of the number: 121\n",
      "Sum of digits: 4\n"
     ]
    }
   ],
   "source": [
    "n=int(input(\"Enter the number: \"))\n",
    "reverse=0\n",
    "sum=0\n",
    "temp=n\n",
    "while(n>0):\n",
    "    r=n%10\n",
    "    reverse=reverse*10+r\n",
    "    sum+=r\n",
    "    n=n//10\n",
    "if(reverse==temp):\n",
    "    print(\"Pelendrom\", reverse)\n",
    "else:\n",
    "    print(\"Not Palendrom\")\n",
    "\n",
    "print(\"Reverse of the number:\", reverse)\n",
    "print(\"Sum of digits:\", sum)"
   ]
  },
  {
   "cell_type": "code",
   "execution_count": null,
   "metadata": {},
   "outputs": [],
   "source": [
    "# User se runtime pe koi number insert karana hai aur ek bar aur nauber insert karana hai or dusra number jitna value hai utne hi pelendrom number show karana hai\n",
    "# Armstrong Number (Important)"
   ]
  },
  {
   "cell_type": "code",
   "execution_count": 2,
   "metadata": {},
   "outputs": [
    {
     "name": "stdout",
     "output_type": "stream",
     "text": [
      "Converted integer: 25\n"
     ]
    }
   ],
   "source": [
    "user_input = float(input(\"Enter a floating-point number: \"))\n",
    "converted_integer = int(user_input)\n",
    "print(f'Converted integer: {converted_integer}')"
   ]
  }
 ],
 "metadata": {
  "kernelspec": {
   "display_name": "Python 3",
   "language": "python",
   "name": "python3"
  },
  "language_info": {
   "codemirror_mode": {
    "name": "ipython",
    "version": 3
   },
   "file_extension": ".py",
   "mimetype": "text/x-python",
   "name": "python",
   "nbconvert_exporter": "python",
   "pygments_lexer": "ipython3",
   "version": "3.12.6"
  }
 },
 "nbformat": 4,
 "nbformat_minor": 2
}
