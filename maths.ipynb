{
 "cells": [
  {
   "cell_type": "code",
   "execution_count": 2,
   "metadata": {},
   "outputs": [
    {
     "name": "stdout",
     "output_type": "stream",
     "text": [
      "Hello\n"
     ]
    }
   ],
   "source": [
    "print(\"Hello\")"
   ]
  },
  {
   "cell_type": "code",
   "execution_count": 18,
   "metadata": {},
   "outputs": [
    {
     "name": "stdout",
     "output_type": "stream",
     "text": [
      "what's name?\n",
      "what's name?\n",
      "what's name amit\n",
      "what's name\"amit\"\n",
      "what's name\t\"amit\"\n",
      "what's name\n",
      "\"amit\"\n",
      "what\\'s name?\n",
      "what's name?\n"
     ]
    }
   ],
   "source": [
    "print(\"what's name?\")\n",
    "print(\"what\\'s name?\")\n",
    "print(\"what\\'s name\",\"amit\")\n",
    "print(\"what\\'s name\\\"amit\\\"\")\n",
    "print(\"what\\'s name\\t\\\"amit\\\"\")\n",
    "print(\"what\\'s name\\n\\\"amit\\\"\")\n",
    "print(R\"what\\'s name?\") #Raw string\n",
    "print(\"what\\'s name?\") #Raw string"
   ]
  },
  {
   "cell_type": "code",
   "execution_count": 19,
   "metadata": {},
   "outputs": [
    {
     "name": "stdout",
     "output_type": "stream",
     "text": [
      "True\n",
      "<class 'bool'>\n",
      "True\n",
      "<class 'bool'>\n"
     ]
    }
   ],
   "source": [
    "x = True\n",
    "print(x)\n",
    "print(type(x))\n",
    "\n",
    "x = bool(5)\n",
    "print(x)\n",
    "print(type(x))"
   ]
  },
  {
   "cell_type": "code",
   "execution_count": 3,
   "metadata": {},
   "outputs": [
    {
     "name": "stdout",
     "output_type": "stream",
     "text": [
      "factorial of a number= 120\n",
      "sum of factorial 153\n"
     ]
    }
   ],
   "source": [
    "i=1\n",
    "n=int(input(\"Enter the number:\"))\n",
    "fact=1\n",
    "sum_fact=0\n",
    "while(i<=n):\n",
    "    fact=fact*i\n",
    "    sum_fact=sum_fact+fact\n",
    "    i+=1\n",
    "print(\"factorial of a number=\", fact)\n",
    "print(\"sum of factorial\", sum_fact)"
   ]
  },
  {
   "cell_type": "code",
   "execution_count": 4,
   "metadata": {},
   "outputs": [
    {
     "name": "stdout",
     "output_type": "stream",
     "text": [
      "Result: -19\n"
     ]
    }
   ],
   "source": [
    "#Calculate the expression factorial(1) - factorial(2) + factorial(3) - factorial(4) with input from the user:\n",
    "\n",
    "def factorial(n):\n",
    "    if n == 0 or n == 1:\n",
    "        return 1\n",
    "    else:\n",
    "        return n * factorial(n - 1)\n",
    "\n",
    "result = factorial(1) - factorial(2) + factorial(3) - factorial(4)\n",
    "print(f'Result: {result}')"
   ]
  },
  {
   "cell_type": "code",
   "execution_count": 5,
   "metadata": {},
   "outputs": [
    {
     "name": "stdout",
     "output_type": "stream",
     "text": [
      "Result: 121.0\n"
     ]
    }
   ],
   "source": [
    "#Calculate factorial(n) / factorial(1) + factorial(2) / 2 with input taken from the user:\n",
    "\n",
    "def factorial(n):\n",
    "    if n == 0 or n == 1:\n",
    "        return 1\n",
    "    else:\n",
    "        return n * factorial(n - 1)\n",
    "\n",
    "n = int(input(\"Enter a number: \"))\n",
    "result = factorial(n) / factorial(1) + factorial(2) / 2\n",
    "print(f'Result: {result}')"
   ]
  },
  {
   "cell_type": "code",
   "execution_count": 6,
   "metadata": {},
   "outputs": [
    {
     "name": "stdout",
     "output_type": "stream",
     "text": [
      "Fibonacci series: [0, 1, 1, 2, 3]\n"
     ]
    }
   ],
   "source": [
    "#Print the Fibonacci (Kivonaki) series 0, 1, 1, 2, 3, 5, ...:\n",
    "\n",
    "def fibonacci_series(n):\n",
    "    series = [0, 1]\n",
    "    while len(series) < n:\n",
    "        next_number = series[-1] + series[-2]\n",
    "        series.append(next_number)\n",
    "    return series\n",
    "\n",
    "n = int(input(\"Enter the number of terms: \"))\n",
    "series = fibonacci_series(n)\n",
    "print(f'Fibonacci series: {series}')"
   ]
  },
  {
   "cell_type": "code",
   "execution_count": 7,
   "metadata": {},
   "outputs": [
    {
     "name": "stdout",
     "output_type": "stream",
     "text": [
      "Is 5 prime? True\n"
     ]
    }
   ],
   "source": [
    "#Program to check if a number is prime or not in 3 different ways:\n",
    "\n",
    "#Using a simple iteration:\n",
    "\n",
    "def is_prime_simple(n):\n",
    "    if n <= 1:\n",
    "        return False\n",
    "    for i in range(2, n):\n",
    "        if n % i == 0:\n",
    "            return False\n",
    "    return True\n",
    "\n",
    "n = int(input(\"Enter a number: \"))\n",
    "print(f'Is {n} prime? {is_prime_simple(n)}')"
   ]
  },
  {
   "cell_type": "code",
   "execution_count": 8,
   "metadata": {},
   "outputs": [
    {
     "name": "stdout",
     "output_type": "stream",
     "text": [
      "Is 5 prime? True\n"
     ]
    }
   ],
   "source": [
    "#Using the square root method:\n",
    "\n",
    "import math\n",
    "\n",
    "def is_prime_sqrt(n):\n",
    "    if n <= 1:\n",
    "        return False\n",
    "    for i in range(2, int(math.sqrt(n)) + 1):\n",
    "        if n % i == 0:\n",
    "            return False\n",
    "    return True\n",
    "\n",
    "print(f'Is {n} prime? {is_prime_sqrt(n)}')"
   ]
  },
  {
   "cell_type": "code",
   "execution_count": 9,
   "metadata": {},
   "outputs": [
    {
     "name": "stdout",
     "output_type": "stream",
     "text": [
      "Is 5 prime? True\n"
     ]
    }
   ],
   "source": [
    "#Using recursion:\n",
    "\n",
    "def is_prime_recursive(n, divisor=None):\n",
    "    if divisor is None:\n",
    "        divisor = n - 1\n",
    "    if n <= 1:\n",
    "        return False\n",
    "    if divisor == 1:\n",
    "        return True\n",
    "    if n % divisor == 0:\n",
    "        return False\n",
    "    return is_prime_recursive(n, divisor - 1)\n",
    "\n",
    "print(f'Is {n} prime? {is_prime_recursive(n)}')"
   ]
  },
  {
   "cell_type": "code",
   "execution_count": 10,
   "metadata": {},
   "outputs": [
    {
     "name": "stdout",
     "output_type": "stream",
     "text": [
      "sum of digit= 5\n"
     ]
    }
   ],
   "source": [
    "n=int(input(\"Enter the number:\"))\n",
    "sum=0\n",
    "while(n>0):\n",
    "    r=n%10\n",
    "    sum=sum+r\n",
    "    n=n//10\n",
    "print(\"sum of digit=\", sum)"
   ]
  },
  {
   "cell_type": "code",
   "execution_count": 11,
   "metadata": {},
   "outputs": [
    {
     "name": "stdout",
     "output_type": "stream",
     "text": [
      "Pelendrom 5\n",
      "Reverse of the number: 5\n",
      "Sum of digits: 5\n"
     ]
    }
   ],
   "source": [
    "n=int(input(\"Enter the number: \"))\n",
    "reverse=0\n",
    "sum=0\n",
    "temp=n\n",
    "while(n>0):\n",
    "    r=n%10\n",
    "    reverse=reverse*10+r\n",
    "    sum+=r\n",
    "    n=n//10\n",
    "if(reverse==temp):\n",
    "    print(\"Pelendrom\", reverse)\n",
    "else:\n",
    "    print(\"Not Palendrom\")\n",
    "\n",
    "print(\"Reverse of the number:\", reverse)\n",
    "print(\"Sum of digits:\", sum)"
   ]
  },
  {
   "cell_type": "code",
   "execution_count": 12,
   "metadata": {},
   "outputs": [],
   "source": [
    "# User se runtime pe koi number insert karana hai aur ek bar aur nauber insert karana hai or dusra number jitna value hai utne hi pelendrom number show karana hai\n",
    "# Armstrong Number (Important)"
   ]
  },
  {
   "cell_type": "code",
   "execution_count": 13,
   "metadata": {},
   "outputs": [
    {
     "name": "stdout",
     "output_type": "stream",
     "text": [
      "Converted integer: 5\n"
     ]
    }
   ],
   "source": [
    "user_input = float(input(\"Enter a floating-point number: \"))\n",
    "converted_integer = int(user_input)\n",
    "print(f'Converted integer: {converted_integer}')"
   ]
  },
  {
   "cell_type": "code",
   "execution_count": 14,
   "metadata": {},
   "outputs": [
    {
     "name": "stdout",
     "output_type": "stream",
     "text": [
      "The sum is: 350\n"
     ]
    }
   ],
   "source": [
    "def add_numbers(a, b):\n",
    "    return a + b\n",
    "\n",
    "# Example usage:\n",
    "result = add_numbers(50, 300)\n",
    "print(f'The sum is: {result}')"
   ]
  },
  {
   "cell_type": "markdown",
   "metadata": {},
   "source": [
    "# function in python \n",
    "# no return no argumnet \n",
    "# no retun with argument \n",
    "# return no argument \n",
    "# return with argument "
   ]
  },
  {
   "cell_type": "markdown",
   "metadata": {},
   "source": [
    "# Local variable and Global variable\n",
    "\n",
    "# When we declare any variable with the scope of a function then such type of variable is know as Local variable and Scope of the Local variable is only inside the function.\n",
    "\n",
    "# When we declare any variable outside the function is known as Global variable and the Scope of a global variable is outside the function as well as inside the function.\n",
    "\n",
    "# Syntax of a Function\n",
    "\n",
    "# def myfunc():\n",
    "#     statement of a function\n"
   ]
  },
  {
   "cell_type": "code",
   "execution_count": 6,
   "metadata": {},
   "outputs": [
    {
     "name": "stdout",
     "output_type": "stream",
     "text": [
      "Add = 16\n"
     ]
    }
   ],
   "source": [
    "def myfunc():\n",
    "    a = 6\n",
    "    b = 10\n",
    "    c = a + b\n",
    "    print(\"Add =\", c)\n",
    "myfunc()"
   ]
  },
  {
   "cell_type": "code",
   "execution_count": 7,
   "metadata": {},
   "outputs": [
    {
     "name": "stdout",
     "output_type": "stream",
     "text": [
      "Add = 30\n"
     ]
    }
   ],
   "source": [
    "def myfunc(x, y):\n",
    "    a = x\n",
    "    b = y\n",
    "    c = a + b\n",
    "    print(\"Add =\", c)\n",
    "myfunc(10, 20)"
   ]
  },
  {
   "cell_type": "code",
   "execution_count": 8,
   "metadata": {},
   "outputs": [
    {
     "name": "stdout",
     "output_type": "stream",
     "text": [
      "22\n",
      "33\n",
      "44\n",
      "55\n",
      "66\n",
      "77\n",
      "88\n",
      "99\n",
      "101\n",
      "111\n",
      "121\n",
      "131\n",
      "141\n",
      "151\n",
      "161\n",
      "171\n",
      "181\n",
      "191\n",
      "202\n",
      "212\n",
      "222\n",
      "232\n",
      "242\n",
      "252\n",
      "262\n",
      "272\n",
      "282\n",
      "292\n",
      "303\n",
      "313\n",
      "323\n",
      "333\n",
      "343\n",
      "353\n",
      "363\n",
      "373\n",
      "383\n",
      "393\n",
      "404\n",
      "414\n",
      "424\n",
      "434\n",
      "444\n",
      "454\n",
      "464\n",
      "474\n",
      "484\n",
      "494\n",
      "505\n",
      "515\n",
      "525\n",
      "535\n",
      "545\n",
      "555\n",
      "565\n",
      "575\n",
      "585\n",
      "595\n",
      "606\n",
      "616\n",
      "626\n",
      "636\n",
      "646\n",
      "656\n",
      "666\n",
      "676\n",
      "686\n",
      "696\n",
      "707\n",
      "717\n",
      "727\n",
      "737\n",
      "747\n",
      "757\n",
      "767\n",
      "777\n",
      "787\n",
      "797\n",
      "808\n",
      "818\n",
      "828\n",
      "838\n",
      "848\n",
      "858\n",
      "868\n",
      "878\n",
      "888\n",
      "898\n",
      "909\n",
      "919\n",
      "929\n",
      "939\n",
      "949\n",
      "959\n",
      "969\n",
      "979\n",
      "989\n",
      "999\n",
      "1001\n",
      "1111\n"
     ]
    }
   ],
   "source": [
    "n = int(input(\"Enter the number: \"))\n",
    "x = int(input(\"Enter the number of palendrom: \"))\n",
    "n +=1\n",
    "cnt = 0\n",
    "while(cnt<x):\n",
    "    temp = n\n",
    "    reverse = 0\n",
    "    while(temp>0):\n",
    "        r = temp%10\n",
    "        reverse = reverse*10+r\n",
    "        temp = temp//10\n",
    "    if(n==reverse):\n",
    "        print(n)\n",
    "        cnt+=1\n",
    "    n+=1"
   ]
  },
  {
   "cell_type": "code",
   "execution_count": 9,
   "metadata": {},
   "outputs": [
    {
     "name": "stdout",
     "output_type": "stream",
     "text": [
      "20 x 1 = 20\n",
      "20 x 2 = 40\n",
      "20 x 3 = 60\n",
      "20 x 4 = 80\n",
      "20 x 5 = 100\n",
      "20 x 6 = 120\n",
      "20 x 7 = 140\n",
      "20 x 8 = 160\n",
      "20 x 9 = 180\n",
      "20 x 10 = 200\n"
     ]
    }
   ],
   "source": [
    "number = int(input(\"Enter a number to print its multiplication table: \"))\n",
    "for i in range(1, 11):\n",
    "    print(f'{number} x {i} = {number * i}')"
   ]
  },
  {
   "cell_type": "code",
   "execution_count": 10,
   "metadata": {},
   "outputs": [
    {
     "name": "stdout",
     "output_type": "stream",
     "text": [
      "i am a string\n",
      "i am also a string\n",
      "i am a multiline string\n",
      "i am also a multiline string\n",
      "13\n",
      "i am \n"
     ]
    }
   ],
   "source": [
    "s = 'i am a string'\n",
    "s1 = \"i am also a string\"\n",
    "s2 = '''i am a multiline string'''\n",
    "s3 = \"\"\"i am also a multiline string\"\"\"\n",
    "print(s)\n",
    "print(s1)\n",
    "print(s2)\n",
    "print(s3)\n",
    "X = len(s)\n",
    "#slicing of a string \n",
    "print(X)\n",
    "print(s[0:5])"
   ]
  },
  {
   "cell_type": "code",
   "execution_count": 11,
   "metadata": {},
   "outputs": [
    {
     "name": "stdout",
     "output_type": "stream",
     "text": [
      "Reversed string: gnirts a ma i5\n"
     ]
    }
   ],
   "source": [
    "reversed_s = '5'\n",
    "for char in s:\n",
    "    reversed_s = char + reversed_s\n",
    "print(f'Reversed string: {reversed_s}')"
   ]
  },
  {
   "cell_type": "code",
   "execution_count": 12,
   "metadata": {},
   "outputs": [
    {
     "name": "stdout",
     "output_type": "stream",
     "text": [
      "Reversed string: gnirts a ma i\n"
     ]
    }
   ],
   "source": [
    "def reverse_string(input_string):\n",
    "    reversed_str = ''\n",
    "    index = len(input_string) - 1\n",
    "    while index >= 0:\n",
    "        reversed_str += input_string[index]\n",
    "        index -= 1\n",
    "    return reversed_str\n",
    "\n",
    "reversed_s = reverse_string(s)\n",
    "print(f'Reversed string: {reversed_s}')"
   ]
  },
  {
   "cell_type": "code",
   "execution_count": 13,
   "metadata": {},
   "outputs": [
    {
     "name": "stdout",
     "output_type": "stream",
     "text": [
      "String without whitespaces: Yourexamplestring\n"
     ]
    }
   ],
   "source": [
    "def remove_whitespaces(input_string):\n",
    "    return ''.join([char for char in input_string if char != ' '])\n",
    "\n",
    "# Example usage:\n",
    "s = \"Your example string\"\n",
    "no_whitespace_s = remove_whitespaces(s)\n",
    "print(f'String without whitespaces: {no_whitespace_s}')\n"
   ]
  },
  {
   "cell_type": "code",
   "execution_count": 14,
   "metadata": {},
   "outputs": [
    {
     "name": "stdout",
     "output_type": "stream",
     "text": [
      "2\n"
     ]
    }
   ],
   "source": [
    "x = lambda a, b: a - b; print(x(5, 3)) "
   ]
  },
  {
   "cell_type": "code",
   "execution_count": 15,
   "metadata": {},
   "outputs": [
    {
     "name": "stdout",
     "output_type": "stream",
     "text": [
      "22\n"
     ]
    }
   ],
   "source": [
    "# user defined function\n",
    "def myfunc(n):\n",
    "    return lambda a: a * n\n",
    "mydoubler = myfunc(2)\n",
    "print(mydoubler(11))"
   ]
  },
  {
   "cell_type": "code",
   "execution_count": 16,
   "metadata": {},
   "outputs": [
    {
     "name": "stdout",
     "output_type": "stream",
     "text": [
      "KHUSHI\n",
      "abishek\n",
      "Khushi\n",
      "True\n",
      "False\n",
      "True\n",
      "1\n",
      "4\n"
     ]
    }
   ],
   "source": [
    "str1 = \"Khushi\"\n",
    "str2 = \"Abishek\"\n",
    "print(str1.upper())\n",
    "print(str2.lower())\n",
    "print(str1.capitalize())\n",
    "print(str2.isalpha())\n",
    "print(str2.isdigit())\n",
    "print(str2.isalnum())\n",
    "print(str2.count('h'))\n",
    "print(str2.index('h'))"
   ]
  },
  {
   "cell_type": "code",
   "execution_count": 17,
   "metadata": {},
   "outputs": [
    {
     "name": "stdout",
     "output_type": "stream",
     "text": [
      "Reversed str1: ihsuhK\n",
      "Reversed str2: kehsibA\n"
     ]
    }
   ],
   "source": [
    "reversed_str1 = str1[::-1]\n",
    "reversed_str2 = str2[::-1]\n",
    "\n",
    "print(f'Reversed str1: {reversed_str1}')\n",
    "print(f'Reversed str2: {reversed_str2}')"
   ]
  },
  {
   "cell_type": "code",
   "execution_count": 18,
   "metadata": {},
   "outputs": [
    {
     "name": "stdout",
     "output_type": "stream",
     "text": [
      "Reversed str1 without slicer: ihsuhK\n",
      "Reversed str2 without slicer: kehsibA\n"
     ]
    }
   ],
   "source": [
    "def reverse_string_without_slicer(input_string):\n",
    "    reversed_str = ''\n",
    "    for char in input_string:\n",
    "        reversed_str = char + reversed_str\n",
    "    return reversed_str\n",
    "\n",
    "reversed_str1 = reverse_string_without_slicer(str1)\n",
    "reversed_str2 = reverse_string_without_slicer(str2)\n",
    "\n",
    "print(f'Reversed str1 without slicer: {reversed_str1}')\n",
    "print(f'Reversed str2 without slicer: {reversed_str2}')"
   ]
  },
  {
   "cell_type": "code",
   "execution_count": 19,
   "metadata": {},
   "outputs": [
    {
     "name": "stdout",
     "output_type": "stream",
     "text": [
      "Reversed str1 using while loop: ihsuhK\n",
      "Reversed str2 using while loop: kehsibA\n"
     ]
    }
   ],
   "source": [
    "def reverse_string_while(bhopal):\n",
    "    reversed_str = ''\n",
    "    index = len(bhopal) - 1\n",
    "    while index >= 0:\n",
    "        reversed_str += bhopal[index]\n",
    "        index -= 1\n",
    "    return reversed_str\n",
    "\n",
    "reversed_str1 = reverse_string_while(str1)\n",
    "reversed_str2 = reverse_string_while(str2)\n",
    "\n",
    "print(f'Reversed str1 using while loop: {reversed_str1}')\n",
    "print(f'Reversed str2 using while loop: {reversed_str2}')"
   ]
  },
  {
   "cell_type": "code",
   "execution_count": 20,
   "metadata": {},
   "outputs": [
    {
     "name": "stdout",
     "output_type": "stream",
     "text": [
      "nohtyP ot emocleW\n"
     ]
    }
   ],
   "source": [
    "s = \"Welcome to Python\"\n",
    "rev = \"\"\n",
    "i = 0\n",
    "while i < len(s):\n",
    "    rev = s[i] + rev\n",
    "    i += 1\n",
    "print(rev)"
   ]
  },
  {
   "cell_type": "code",
   "execution_count": 21,
   "metadata": {},
   "outputs": [
    {
     "name": "stdout",
     "output_type": "stream",
     "text": [
      "String after swapping first and last characters: nohtyP ot emocleW\n"
     ]
    }
   ],
   "source": [
    "def swap_first_last_char(input_string):\n",
    "    if len(input_string) <= 1:\n",
    "        return input_string\n",
    "    \n",
    "    swapped_string = list(input_string)\n",
    "    i = 0\n",
    "    j = len(input_string) - 1\n",
    "    \n",
    "    while i < j:\n",
    "        swapped_string[i], swapped_string[j] = swapped_string[j], swapped_string[i]\n",
    "        i += 1\n",
    "        j -= 1\n",
    "    \n",
    "    return ''.join(swapped_string)\n",
    "\n",
    "# Example usage:\n",
    "s = \"Welcome to Python\"\n",
    "swapped_s = swap_first_last_char(s)\n",
    "print(f'String after swapping first and last characters: {swapped_s}')"
   ]
  },
  {
   "cell_type": "code",
   "execution_count": 22,
   "metadata": {},
   "outputs": [
    {
     "name": "stdout",
     "output_type": "stream",
     "text": [
      "This is class of function\n"
     ]
    }
   ],
   "source": [
    "print(\"This is class of function\")"
   ]
  },
  {
   "cell_type": "code",
   "execution_count": 23,
   "metadata": {},
   "outputs": [
    {
     "name": "stdout",
     "output_type": "stream",
     "text": [
      "Is 20 odd? False\n"
     ]
    }
   ],
   "source": [
    "def is_odd(n):\n",
    "    return n % 2 != 0\n",
    "\n",
    "# Example usage:\n",
    "number = int(input(\"Enter a number: \"))\n",
    "print(f'Is {number} odd? {is_odd(number)}')"
   ]
  },
  {
   "cell_type": "code",
   "execution_count": 24,
   "metadata": {},
   "outputs": [
    {
     "name": "stdout",
     "output_type": "stream",
     "text": [
      "Reversed string of number: 02\n"
     ]
    }
   ],
   "source": [
    "def reverse_string(input_string):\n",
    "    return input_string[::-1]\n",
    "\n",
    "# Example usage:\n",
    "number_str = str(number)\n",
    "reversed_number_str = reverse_string(number_str)\n",
    "print(f'Reversed string of number: {reversed_number_str}')"
   ]
  },
  {
   "cell_type": "code",
   "execution_count": 25,
   "metadata": {},
   "outputs": [
    {
     "name": "stdout",
     "output_type": "stream",
     "text": [
      "Reversed string: 02\n"
     ]
    }
   ],
   "source": [
    "def reverse_string(input_string):\n",
    "    return input_string[::-1]\n",
    "\n",
    "# Get input from the user\n",
    "user_input = input(\"Enter a string to reverse: \")\n",
    "reversed_input = reverse_string(user_input)\n",
    "print(f'Reversed string: {reversed_input}')"
   ]
  },
  {
   "cell_type": "code",
   "execution_count": 26,
   "metadata": {},
   "outputs": [
    {
     "name": "stdout",
     "output_type": "stream",
     "text": [
      "Reversed string: 02\n"
     ]
    }
   ],
   "source": [
    "user_input = input(\"Enter a string to reverse: \")\n",
    "\n",
    "def reverse_string_while(input_string):\n",
    "    reversed_str = ''\n",
    "    index = len(input_string) - 1\n",
    "    while index >= 0:\n",
    "        reversed_str += input_string[index]\n",
    "        index -= 1\n",
    "    return reversed_str\n",
    "\n",
    "reversed_input = reverse_string_while(user_input)\n",
    "print(f'Reversed string: {reversed_input}')"
   ]
  },
  {
   "cell_type": "code",
   "execution_count": 27,
   "metadata": {},
   "outputs": [
    {
     "name": "stdout",
     "output_type": "stream",
     "text": [
      "The value of a is: Hello World\n"
     ]
    }
   ],
   "source": [
    "#No return with argument\n",
    "def noreturn_with_argument(a):\n",
    "    print(\"The value of a is:\", a)\n",
    " \n",
    "argument=\"Hello World\"   \n",
    "noreturn_with_argument(argument)"
   ]
  },
  {
   "cell_type": "code",
   "execution_count": 28,
   "metadata": {},
   "outputs": [
    {
     "name": "stdout",
     "output_type": "stream",
     "text": [
      "The sum is: 30\n"
     ]
    }
   ],
   "source": [
    "def add_two_numbers(x, y):\n",
    "    return x + y\n",
    "\n",
    "result = add_two_numbers(10, 20)\n",
    "print(f'The sum is: {result}')"
   ]
  },
  {
   "cell_type": "code",
   "execution_count": 29,
   "metadata": {},
   "outputs": [
    {
     "name": "stdout",
     "output_type": "stream",
     "text": [
      "2 x 1 = 2\n",
      "2 x 2 = 4\n",
      "2 x 3 = 6\n",
      "2 x 4 = 8\n",
      "2 x 5 = 10\n",
      "2 x 6 = 12\n",
      "2 x 7 = 14\n",
      "2 x 8 = 16\n",
      "2 x 9 = 18\n",
      "2 x 10 = 20\n"
     ]
    }
   ],
   "source": [
    "for i in range(1, 11):\n",
    "    print(f'2 x {i} = {2 * i}')"
   ]
  },
  {
   "cell_type": "markdown",
   "metadata": {},
   "source": [
    "#default argument\n",
    "When any parameter can hold a value then such type of value is known as default argument.\n",
    "\n",
    "When calling the function there will be not neccessary to pass an argument where there is default argument.\n",
    "\n",
    "When we pass the argument when calling the function the value should be overwrite."
   ]
  },
  {
   "cell_type": "code",
   "execution_count": 30,
   "metadata": {},
   "outputs": [
    {
     "name": "stdout",
     "output_type": "stream",
     "text": [
      "Add 30\n"
     ]
    }
   ],
   "source": [
    "def noreturn_with_argument(a=50, b=50):\n",
    "    c=a+b\n",
    "    if(c==100):\n",
    "        print(\"Please provide two arguments when calling the function to add two numbers\")\n",
    "    else:\n",
    "        print(\"Add\", c)\n",
    "        \n",
    "noreturn_with_argument(10, 20)"
   ]
  },
  {
   "cell_type": "code",
   "execution_count": 31,
   "metadata": {},
   "outputs": [
    {
     "name": "stdout",
     "output_type": "stream",
     "text": [
      "Add 300\n"
     ]
    }
   ],
   "source": [
    "\n",
    "def noreturn_with_argument(a=50, b=50):\n",
    "    c=a+b\n",
    "    if(c==100):\n",
    "        print(\"Please provide two arguments when calling the function to add two numbers\")\n",
    "    else:\n",
    "        print(\"Add\", c)\n",
    "        \n",
    "name_change=noreturn_with_argument\n",
    "name_change(100, 200)"
   ]
  },
  {
   "cell_type": "code",
   "execution_count": 32,
   "metadata": {},
   "outputs": [
    {
     "data": {
      "text/plain": [
       "101"
      ]
     },
     "execution_count": 32,
     "metadata": {},
     "output_type": "execute_result"
    }
   ],
   "source": [
    "\n",
    "def noreturn_with_argument():\n",
    "    a=51\n",
    "    b=50\n",
    "    c=a+b\n",
    "    if(c==100):\n",
    "        print(\"Please provide two arguments when calling the function to add two numbers\")\n",
    "    else:\n",
    "        return c\n",
    "        \n",
    "name_change=noreturn_with_argument\n",
    "name_change()"
   ]
  },
  {
   "cell_type": "code",
   "execution_count": 33,
   "metadata": {},
   "outputs": [
    {
     "name": "stdout",
     "output_type": "stream",
     "text": [
      "110\n"
     ]
    }
   ],
   "source": [
    "def func(a, b , c, d, e=10):\n",
    "    add=a+b+c+d+e\n",
    "    return add\n",
    "ans=func(10, 20, 30, 40)\n",
    "print(ans)"
   ]
  },
  {
   "cell_type": "markdown",
   "metadata": {},
   "source": [
    "#Keyword Argument\n",
    "#When we pass any parameter inside the function with * then such type of argument is known as keyword argument "
   ]
  },
  {
   "cell_type": "code",
   "execution_count": 34,
   "metadata": {},
   "outputs": [
    {
     "name": "stdout",
     "output_type": "stream",
     "text": [
      "(10, 20, 30, 40)\n"
     ]
    }
   ],
   "source": [
    "def func(*kwargs):\n",
    "    print(kwargs)\n",
    "func(10, 20, 30, 40)"
   ]
  },
  {
   "cell_type": "markdown",
   "metadata": {},
   "source": [
    "#Lambda : it is also known as ine line function."
   ]
  },
  {
   "cell_type": "code",
   "execution_count": 35,
   "metadata": {},
   "outputs": [
    {
     "name": "stdout",
     "output_type": "stream",
     "text": [
      "5\n"
     ]
    }
   ],
   "source": [
    "x = lambda y:y\n",
    "print(x(5))"
   ]
  },
  {
   "cell_type": "code",
   "execution_count": 36,
   "metadata": {},
   "outputs": [
    {
     "name": "stdout",
     "output_type": "stream",
     "text": [
      "100\n"
     ]
    }
   ],
   "source": [
    "x = lambda y=5, z=5: y*z\n",
    "print(x(10, 10))"
   ]
  },
  {
   "cell_type": "code",
   "execution_count": 37,
   "metadata": {},
   "outputs": [
    {
     "name": "stdout",
     "output_type": "stream",
     "text": [
      "Result after adding 5: 115\n"
     ]
    }
   ],
   "source": [
    "add_five = lambda x: x + 5\n",
    "result = add_five(ans)\n",
    "print(f'Result after adding 5: {result}')"
   ]
  },
  {
   "cell_type": "code",
   "execution_count": 38,
   "metadata": {},
   "outputs": [
    {
     "name": "stdout",
     "output_type": "stream",
     "text": [
      "Sum: 225, Difference: -5, Product: 12650, Division: 0.9565217391304348\n"
     ]
    }
   ],
   "source": [
    "def arbitrary_function(a, b):\n",
    "    sum_ab = a + b\n",
    "    diff_ab = a - b\n",
    "    prod_ab = a * b\n",
    "    if b != 0:\n",
    "        div_ab = a / b\n",
    "    else:\n",
    "        div_ab = None\n",
    "    return sum_ab, diff_ab, prod_ab, div_ab\n",
    "\n",
    "# Example usage:\n",
    "sum_ab, diff_ab, prod_ab, div_ab = arbitrary_function(ans, result)\n",
    "print(f'Sum: {sum_ab}, Difference: {diff_ab}, Product: {prod_ab}, Division: {div_ab}')"
   ]
  },
  {
   "cell_type": "code",
   "execution_count": 40,
   "metadata": {},
   "outputs": [
    {
     "name": "stdout",
     "output_type": "stream",
     "text": [
      "factorial of a number = 15511210043330985984000000\n"
     ]
    }
   ],
   "source": [
    "def fact(n):\n",
    "    i=1\n",
    "    fact=1\n",
    "    while(i<=n):\n",
    "        fact=fact*i\n",
    "        i+=1\n",
    "    print(\"factorial of a number =\", fact)\n",
    "\n",
    "n=int(input(\"Enter the number:\"))\n",
    "fact(n)"
   ]
  },
  {
   "cell_type": "markdown",
   "metadata": {},
   "source": [
    "#Recuression function\n",
    "\n",
    "#When the function call itself then it is known as recurssion function"
   ]
  },
  {
   "cell_type": "code",
   "execution_count": null,
   "metadata": {},
   "outputs": [
    {
     "name": "stdout",
     "output_type": "stream",
     "text": [
      "15\n"
     ]
    }
   ],
   "source": [
    "def fact(n):\n",
    "    if n==0:\n",
    "        result=0\n",
    "        return result\n",
    "    else:\n",
    "        result=n+fact(n-1)\n",
    "        return result\n",
    "print(fact(5)) "
   ]
  },
  {
   "cell_type": "markdown",
   "metadata": {},
   "source": [
    "Using recursion function check the no is prime or not \n",
    "Difference between function and module\n",
    "member operator (in and not in)  "
   ]
  },
  {
   "cell_type": "code",
   "execution_count": null,
   "metadata": {},
   "outputs": [
    {
     "name": "stdout",
     "output_type": "stream",
     "text": [
      "1 2 3 4 ----------------\n",
      "1 3 ----------------\n"
     ]
    }
   ],
   "source": [
    "for i in range(1, 5, 1):\n",
    "    print(i, end=' ')\n",
    "print(\"----------------\")\n",
    "\n",
    "for i in range(1, 5, 2):\n",
    "    print(i, end=' ')\n",
    "print(\"----------------\")"
   ]
  },
  {
   "cell_type": "code",
   "execution_count": null,
   "metadata": {},
   "outputs": [
    {
     "name": "stdout",
     "output_type": "stream",
     "text": [
      "Outer Loop\n",
      "Inner Loop Inner Loop Inner Loop Inner Loop Inner Loop \n",
      "Outer Loop\n",
      "Inner Loop Inner Loop Inner Loop Inner Loop Inner Loop \n",
      "Outer Loop\n",
      "Inner Loop Inner Loop Inner Loop Inner Loop Inner Loop \n",
      "Outer Loop\n",
      "Inner Loop Inner Loop Inner Loop Inner Loop Inner Loop \n",
      "Outer Loop\n",
      "Inner Loop Inner Loop Inner Loop Inner Loop Inner Loop \n"
     ]
    }
   ],
   "source": [
    "for i in range(5):\n",
    "    print(\"Outer Loop\")\n",
    "    for j in range(5):\n",
    "        print(\"Inner Loop\", end=' ')\n",
    "    print()"
   ]
  },
  {
   "cell_type": "markdown",
   "metadata": {},
   "source": [
    "Write a program to find all the prime numbers between two user input both are inclusive aslo show the no which have exactly four factors"
   ]
  },
  {
   "cell_type": "code",
   "execution_count": null,
   "metadata": {},
   "outputs": [
    {
     "name": "stdout",
     "output_type": "stream",
     "text": [
      "Prime numbers between 20 and 60: [23, 29, 31, 37, 41, 43, 47, 53, 59]\n",
      "Numbers with exactly four factors between 20 and 60: [21, 22, 26, 27, 33, 34, 35, 38, 39, 46, 51, 55, 57, 58]\n"
     ]
    }
   ],
   "source": [
    "def is_prime(n):\n",
    "    if n <= 1:\n",
    "        return False\n",
    "    for i in range(2, int(n**0.5) + 1):\n",
    "        if n % i == 0:\n",
    "            return False\n",
    "    return True\n",
    "\n",
    "def count_factors(n):\n",
    "    count = 0\n",
    "    for i in range(1, n + 1):\n",
    "        if n % i == 0:\n",
    "            count += 1\n",
    "    return count\n",
    "\n",
    "start = int(input(\"Enter the start of the range: \"))\n",
    "end = int(input(\"Enter the end of the range: \"))\n",
    "\n",
    "prime_numbers = []\n",
    "four_factors_numbers = []\n",
    "\n",
    "for num in range(start, end + 1):\n",
    "    if is_prime(num):\n",
    "        prime_numbers.append(num)\n",
    "    if count_factors(num) == 4:\n",
    "        four_factors_numbers.append(num)\n",
    "\n",
    "print(f'Prime numbers between {start} and {end}: {prime_numbers}')\n",
    "print(f'Numbers with exactly four factors between {start} and {end}: {four_factors_numbers}')"
   ]
  },
  {
   "cell_type": "code",
   "execution_count": 1,
   "metadata": {},
   "outputs": [
    {
     "name": "stdout",
     "output_type": "stream",
     "text": [
      "The computed simple interest is: 9000.0\n"
     ]
    }
   ],
   "source": [
    "def compute_simple_interest(principal, rate, time):\n",
    "    \"\"\"\n",
    "    Function to compute simple interest.\n",
    "    \n",
    "    Parameters:\n",
    "    principal (float): The principal amount.\n",
    "    rate (float): The annual interest rate (in percentage).\n",
    "    time (float): The time the money is invested for (in years).\n",
    "    \n",
    "    Returns:\n",
    "    float: The computed simple interest.\n",
    "    \"\"\"\n",
    "    simple_interest = (principal * rate * time) / 100\n",
    "    return simple_interest\n",
    "\n",
    "# Example usage:\n",
    "principal = float(input(\"Enter the principal amount: \"))\n",
    "rate = float(input(\"Enter the annual interest rate (in percentage): \"))\n",
    "time = float(input(\"Enter the time (in years): \"))\n",
    "\n",
    "simple_interest = compute_simple_interest(principal, rate, time)\n",
    "print(f'The computed simple interest is: {simple_interest}')"
   ]
  },
  {
   "cell_type": "code",
   "execution_count": 3,
   "metadata": {},
   "outputs": [
    {
     "name": "stdout",
     "output_type": "stream",
     "text": [
      "The area of the square is: 25.0\n"
     ]
    }
   ],
   "source": [
    "def area_of_square(side):\n",
    "    return side ** 2\n",
    "\n",
    "# Example usage:\n",
    "side_length = float(input(\"Enter the length of the side of the square: \"))\n",
    "area = area_of_square(side_length)\n",
    "print(f'The area of the square is: {area}')"
   ]
  },
  {
   "cell_type": "code",
   "execution_count": 5,
   "metadata": {},
   "outputs": [
    {
     "name": "stdout",
     "output_type": "stream",
     "text": [
      "0\n",
      "3\n",
      "6\n",
      "9\n",
      "12\n",
      "15\n",
      "18\n",
      "21\n",
      "24\n",
      "27\n",
      "30\n"
     ]
    }
   ],
   "source": [
    "i = 0\n",
    "while i <= 30:\n",
    "    if i % 3 == 0:\n",
    "        print(i)\n",
    "    i += 1"
   ]
  },
  {
   "cell_type": "code",
   "execution_count": 2,
   "metadata": {},
   "outputs": [
    {
     "name": "stdout",
     "output_type": "stream",
     "text": [
      "*\n",
      "*\n",
      "*\n",
      "*\n",
      "*\n",
      "*\n",
      "*\n",
      "*\n",
      "*\n",
      "*\n",
      "*\n",
      "*\n",
      "*\n",
      "*\n",
      "*\n",
      "*\n"
     ]
    }
   ],
   "source": [
    "for i in range(4):\n",
    "    for j in range(4):\n",
    "        print(\"*\")"
   ]
  },
  {
   "cell_type": "code",
   "execution_count": 4,
   "metadata": {},
   "outputs": [
    {
     "name": "stdout",
     "output_type": "stream",
     "text": [
      "*\n",
      "*\n",
      "*\n",
      "*\n",
      "*\n",
      "*\n",
      "*\n",
      "*\n",
      "*\n",
      "*\n",
      "*\n",
      "*\n",
      "*\n",
      "*\n",
      "*\n",
      "*\n"
     ]
    }
   ],
   "source": [
    "for i in range(4):\n",
    "    for j in range(4):\n",
    "        print(\"*\", end=\"\")\n",
    "        print() "
   ]
  },
  {
   "cell_type": "code",
   "execution_count": 5,
   "metadata": {},
   "outputs": [
    {
     "name": "stdout",
     "output_type": "stream",
     "text": [
      "* * * * \n",
      "* * * * \n",
      "* * * * \n",
      "* * * * \n"
     ]
    }
   ],
   "source": [
    "for i in range(4):\n",
    "    for j in range(4):\n",
    "        print(\"*\", end=\" \")\n",
    "    print() "
   ]
  },
  {
   "cell_type": "code",
   "execution_count": 10,
   "metadata": {},
   "outputs": [
    {
     "name": "stdout",
     "output_type": "stream",
     "text": [
      "* \n",
      "* * \n",
      "* * * \n",
      "* * * * \n"
     ]
    }
   ],
   "source": [
    "for i in range(4):\n",
    "    for j in range(i+1):\n",
    "        print(\"*\", end=\" \")\n",
    "    print()"
   ]
  },
  {
   "cell_type": "code",
   "execution_count": 11,
   "metadata": {},
   "outputs": [
    {
     "name": "stdout",
     "output_type": "stream",
     "text": [
      "* * * * \n",
      "* * * \n",
      "* * \n",
      "* \n"
     ]
    }
   ],
   "source": [
    "for i in range(4):\n",
    "    for j in range(4-i):\n",
    "        print(\"*\", end=\" \")\n",
    "    print()"
   ]
  },
  {
   "cell_type": "code",
   "execution_count": 19,
   "metadata": {},
   "outputs": [
    {
     "name": "stdout",
     "output_type": "stream",
     "text": [
      "1 \n",
      "2 2 \n",
      "3 3 3 \n",
      "4 4 4 4 \n"
     ]
    }
   ],
   "source": [
    "for i in range(1, 5):\n",
    "    for j in range(i):\n",
    "        print(i, end=\" \")\n",
    "    print()"
   ]
  },
  {
   "cell_type": "code",
   "execution_count": 21,
   "metadata": {},
   "outputs": [
    {
     "name": "stdout",
     "output_type": "stream",
     "text": [
      "1 \n",
      "1 2 \n",
      "1 2 3 \n"
     ]
    }
   ],
   "source": [
    "for i in range(1, 4):\n",
    "    for j in range(i):\n",
    "        print(j+1, end=\" \")\n",
    "    print()"
   ]
  },
  {
   "cell_type": "code",
   "execution_count": null,
   "metadata": {},
   "outputs": [],
   "source": [
    "for i in range(1, 5):\n",
    "    for j in range(i):\n",
    "        print(j+1, end=\" \")\n",
    "    print() "
   ]
  },
  {
   "cell_type": "code",
   "execution_count": 28,
   "metadata": {},
   "outputs": [
    {
     "name": "stdout",
     "output_type": "stream",
     "text": [
      "1 \n",
      "2 3 \n",
      "4 5 6 \n"
     ]
    }
   ],
   "source": [
    "num = 1\n",
    "for i in range(1, 4):\n",
    "    for j in range(i):\n",
    "        print(num, end=\" \")\n",
    "        num += 1\n",
    "    print()"
   ]
  }
 ],
 "metadata": {
  "kernelspec": {
   "display_name": "Python 3",
   "language": "python",
   "name": "python3"
  },
  "language_info": {
   "codemirror_mode": {
    "name": "ipython",
    "version": 3
   },
   "file_extension": ".py",
   "mimetype": "text/x-python",
   "name": "python",
   "nbconvert_exporter": "python",
   "pygments_lexer": "ipython3",
   "version": "3.12.6"
  }
 },
 "nbformat": 4,
 "nbformat_minor": 2
}
